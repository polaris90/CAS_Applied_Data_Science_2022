{
  "nbformat": 4,
  "nbformat_minor": 0,
  "metadata": {
    "colab": {
      "provenance": [],
      "collapsed_sections": [
        "s8X9DRzyJiLi",
        "4fMRFcJQkh4G",
        "W2Mh4ZpOmenV",
        "pqjbhRTTsOHh",
        "PNVs_EvODgSK",
        "fEpZe9vYo-nF",
        "Tg_QNmYKAs41",
        "guuTc49H_6cq",
        "KIi_CS1Ysdke",
        "2Y7v4W87PT_P",
        "gzcALhSjFDj6",
        "wiKaXGIpPNKD",
        "QDYLtY1TjMb0",
        "2pC3bBw8FXif",
        "loMHZmgjFExP",
        "C0oahwDVTwxQ",
        "3Tc0YMS9Ai03"
      ]
    },
    "kernelspec": {
      "name": "python3",
      "display_name": "Python 3"
    },
    "language_info": {
      "name": "python"
    }
  },
  "cells": [
    {
      "cell_type": "markdown",
      "source": [
        "#### **About**\n",
        "\n",
        "Dataset https://www.kaggle.com/datasets/hugomathien/soccer"
      ],
      "metadata": {
        "id": "eGxfIONP4C1Q"
      }
    },
    {
      "cell_type": "markdown",
      "source": [
        "\n",
        "\n",
        "\n",
        "\n",
        "### **Changes to do:**\n"
      ],
      "metadata": {
        "id": "s8X9DRzyJiLi"
      }
    },
    {
      "cell_type": "markdown",
      "source": [
        "- Use difference rather than ratio, also for RF\n",
        "  - Mention and show before and after\n",
        "  - What is with highly correlated variables?\n",
        "    - Omit for logistic regression\n",
        "    - leave for random forest\n",
        "\n",
        "- Train, Test, Validation\n",
        "- What to do? Really incorporate it?\n",
        "  - TEST ONE LAST TIME WHAT CHANGES AND LEAVE IT!\n",
        "    - but must rakte TRAIN + TEST for Model training then"
      ],
      "metadata": {
        "id": "PbM0nn2oH5rQ"
      }
    },
    {
      "cell_type": "markdown",
      "source": [
        "### **Load required package**"
      ],
      "metadata": {
        "id": "4fMRFcJQkh4G"
      }
    },
    {
      "cell_type": "code",
      "execution_count": null,
      "metadata": {
        "id": "sJ2pmOhejVEx",
        "colab": {
          "base_uri": "https://localhost:8080/",
          "height": 346
        },
        "outputId": "8ed6d66c-b55c-4aa9-ddc4-ead81aaedff1"
      },
      "outputs": [
        {
          "output_type": "error",
          "ename": "MessageError",
          "evalue": "ignored",
          "traceback": [
            "\u001b[0;31m---------------------------------------------------------------------------\u001b[0m",
            "\u001b[0;31mMessageError\u001b[0m                              Traceback (most recent call last)",
            "\u001b[0;32m<ipython-input-1-e49e20373b2e>\u001b[0m in \u001b[0;36m<module>\u001b[0;34m\u001b[0m\n\u001b[1;32m      8\u001b[0m \u001b[0;32mimport\u001b[0m \u001b[0mtime\u001b[0m\u001b[0;34m\u001b[0m\u001b[0;34m\u001b[0m\u001b[0m\n\u001b[1;32m      9\u001b[0m \u001b[0;32mimport\u001b[0m \u001b[0mdatetime\u001b[0m\u001b[0;34m\u001b[0m\u001b[0;34m\u001b[0m\u001b[0m\n\u001b[0;32m---> 10\u001b[0;31m \u001b[0mdrive\u001b[0m\u001b[0;34m.\u001b[0m\u001b[0mmount\u001b[0m\u001b[0;34m(\u001b[0m\u001b[0;34m'content/'\u001b[0m\u001b[0;34m)\u001b[0m\u001b[0;34m\u001b[0m\u001b[0;34m\u001b[0m\u001b[0m\n\u001b[0m",
            "\u001b[0;32m/usr/local/lib/python3.8/dist-packages/google/colab/drive.py\u001b[0m in \u001b[0;36mmount\u001b[0;34m(mountpoint, force_remount, timeout_ms, readonly)\u001b[0m\n\u001b[1;32m     99\u001b[0m \u001b[0;32mdef\u001b[0m \u001b[0mmount\u001b[0m\u001b[0;34m(\u001b[0m\u001b[0mmountpoint\u001b[0m\u001b[0;34m,\u001b[0m \u001b[0mforce_remount\u001b[0m\u001b[0;34m=\u001b[0m\u001b[0;32mFalse\u001b[0m\u001b[0;34m,\u001b[0m \u001b[0mtimeout_ms\u001b[0m\u001b[0;34m=\u001b[0m\u001b[0;36m120000\u001b[0m\u001b[0;34m,\u001b[0m \u001b[0mreadonly\u001b[0m\u001b[0;34m=\u001b[0m\u001b[0;32mFalse\u001b[0m\u001b[0;34m)\u001b[0m\u001b[0;34m:\u001b[0m\u001b[0;34m\u001b[0m\u001b[0;34m\u001b[0m\u001b[0m\n\u001b[1;32m    100\u001b[0m   \u001b[0;34m\"\"\"Mount your Google Drive at the specified mountpoint path.\"\"\"\u001b[0m\u001b[0;34m\u001b[0m\u001b[0;34m\u001b[0m\u001b[0m\n\u001b[0;32m--> 101\u001b[0;31m   return _mount(\n\u001b[0m\u001b[1;32m    102\u001b[0m       \u001b[0mmountpoint\u001b[0m\u001b[0;34m,\u001b[0m\u001b[0;34m\u001b[0m\u001b[0;34m\u001b[0m\u001b[0m\n\u001b[1;32m    103\u001b[0m       \u001b[0mforce_remount\u001b[0m\u001b[0;34m=\u001b[0m\u001b[0mforce_remount\u001b[0m\u001b[0;34m,\u001b[0m\u001b[0;34m\u001b[0m\u001b[0;34m\u001b[0m\u001b[0m\n",
            "\u001b[0;32m/usr/local/lib/python3.8/dist-packages/google/colab/drive.py\u001b[0m in \u001b[0;36m_mount\u001b[0;34m(mountpoint, force_remount, timeout_ms, ephemeral, readonly)\u001b[0m\n\u001b[1;32m    122\u001b[0m       'TBE_EPHEM_CREDS_ADDR'] if ephemeral else _os.environ['TBE_CREDS_ADDR']\n\u001b[1;32m    123\u001b[0m   \u001b[0;32mif\u001b[0m \u001b[0mephemeral\u001b[0m\u001b[0;34m:\u001b[0m\u001b[0;34m\u001b[0m\u001b[0;34m\u001b[0m\u001b[0m\n\u001b[0;32m--> 124\u001b[0;31m     _message.blocking_request(\n\u001b[0m\u001b[1;32m    125\u001b[0m         'request_auth', request={'authType': 'dfs_ephemeral'}, timeout_sec=None)\n\u001b[1;32m    126\u001b[0m \u001b[0;34m\u001b[0m\u001b[0m\n",
            "\u001b[0;32m/usr/local/lib/python3.8/dist-packages/google/colab/_message.py\u001b[0m in \u001b[0;36mblocking_request\u001b[0;34m(request_type, request, timeout_sec, parent)\u001b[0m\n\u001b[1;32m    169\u001b[0m   request_id = send_request(\n\u001b[1;32m    170\u001b[0m       request_type, request, parent=parent, expect_reply=True)\n\u001b[0;32m--> 171\u001b[0;31m   \u001b[0;32mreturn\u001b[0m \u001b[0mread_reply_from_input\u001b[0m\u001b[0;34m(\u001b[0m\u001b[0mrequest_id\u001b[0m\u001b[0;34m,\u001b[0m \u001b[0mtimeout_sec\u001b[0m\u001b[0;34m)\u001b[0m\u001b[0;34m\u001b[0m\u001b[0;34m\u001b[0m\u001b[0m\n\u001b[0m",
            "\u001b[0;32m/usr/local/lib/python3.8/dist-packages/google/colab/_message.py\u001b[0m in \u001b[0;36mread_reply_from_input\u001b[0;34m(message_id, timeout_sec)\u001b[0m\n\u001b[1;32m    100\u001b[0m         reply.get('colab_msg_id') == message_id):\n\u001b[1;32m    101\u001b[0m       \u001b[0;32mif\u001b[0m \u001b[0;34m'error'\u001b[0m \u001b[0;32min\u001b[0m \u001b[0mreply\u001b[0m\u001b[0;34m:\u001b[0m\u001b[0;34m\u001b[0m\u001b[0;34m\u001b[0m\u001b[0m\n\u001b[0;32m--> 102\u001b[0;31m         \u001b[0;32mraise\u001b[0m \u001b[0mMessageError\u001b[0m\u001b[0;34m(\u001b[0m\u001b[0mreply\u001b[0m\u001b[0;34m[\u001b[0m\u001b[0;34m'error'\u001b[0m\u001b[0;34m]\u001b[0m\u001b[0;34m)\u001b[0m\u001b[0;34m\u001b[0m\u001b[0;34m\u001b[0m\u001b[0m\n\u001b[0m\u001b[1;32m    103\u001b[0m       \u001b[0;32mreturn\u001b[0m \u001b[0mreply\u001b[0m\u001b[0;34m.\u001b[0m\u001b[0mget\u001b[0m\u001b[0;34m(\u001b[0m\u001b[0;34m'data'\u001b[0m\u001b[0;34m,\u001b[0m \u001b[0;32mNone\u001b[0m\u001b[0;34m)\u001b[0m\u001b[0;34m\u001b[0m\u001b[0;34m\u001b[0m\u001b[0m\n\u001b[1;32m    104\u001b[0m \u001b[0;34m\u001b[0m\u001b[0m\n",
            "\u001b[0;31mMessageError\u001b[0m: Error: credential propagation was unsuccessful"
          ]
        }
      ],
      "source": [
        "# Import packages\n",
        "\n",
        "import sqlite3\n",
        "import os\n",
        "import pandas as pd\n",
        "import numpy as np\n",
        "from google.colab import drive\n",
        "import time\n",
        "import datetime\n",
        "drive.mount('content/')\n"
      ]
    },
    {
      "cell_type": "code",
      "source": [
        "\n",
        "! ls -l \n",
        "#ColabNotebooks/"
      ],
      "metadata": {
        "id": "PAMY2urclGp9"
      },
      "execution_count": null,
      "outputs": []
    },
    {
      "cell_type": "code",
      "source": [
        "con = sqlite3.connect(\"content/MyDrive/Projekt/M3/database.sqlite\")\n",
        "cur = con.cursor()\n",
        "\n",
        "# database.sqlite\n",
        "# Country\n",
        "# League\n",
        "# Match\n",
        "# Player\n",
        "# Player_Attributes\n",
        "# Team\n",
        "# Team_Attributes"
      ],
      "metadata": {
        "id": "eJgdB9ftkt9c"
      },
      "execution_count": null,
      "outputs": []
    },
    {
      "cell_type": "code",
      "source": [
        "pd.set_option('max_columns', None)\n",
        "pd.set_option('display.max_columns', None)\n",
        "pd.set_option('display.max_rows', 100)"
      ],
      "metadata": {
        "id": "bQQIEL1LqdQd"
      },
      "execution_count": null,
      "outputs": []
    },
    {
      "cell_type": "markdown",
      "source": [
        "##### **Database sqlite**\n",
        "\n",
        "\n",
        "*   Join the tables\n",
        "*   Explore data\n",
        "*   Chose latest season\n",
        "*   Delete unnecessary columns\n",
        "\n",
        "\n"
      ],
      "metadata": {
        "id": "6f6GSYmRuhCC"
      }
    },
    {
      "cell_type": "code",
      "source": [
        "def assign_result(row):\n",
        "  if row['home_team_goal'] > row['away_team_goal']:\n",
        "    return \"home\"\n",
        "  elif row['home_team_goal'] == row['away_team_goal']:\n",
        "    return \"draw\"\n",
        "  else:\n",
        "    return \"away\"\n",
        "\n",
        "def assign_points_home(row):\n",
        "  if row['home_team_goal'] > row['away_team_goal']:\n",
        "    return 3\n",
        "  elif row['home_team_goal'] == row['away_team_goal']:\n",
        "    return 1\n",
        "  else:\n",
        "    return 0\n",
        "\n",
        "def assign_points_away(row):\n",
        "  if row['home_team_goal'] > row['away_team_goal']:\n",
        "    return 0\n",
        "  elif row['home_team_goal'] == row['away_team_goal']:\n",
        "    return 1\n",
        "  else:\n",
        "    return 3\n",
        "\n",
        "def assign_value_from_list(row,value_list):\n",
        "  return value_list[row['date_index']]\n"
      ],
      "metadata": {
        "id": "1AgFOuLbrLjH"
      },
      "execution_count": null,
      "outputs": []
    },
    {
      "cell_type": "code",
      "source": [
        "cur.execute(\n",
        "    '''SELECT\n",
        "        Match.id,\n",
        "        Match.date,\n",
        "        Match.season,\n",
        "        Match.stage,\n",
        "        Match.country_id,\n",
        "        Country.name AS Country_Name,\n",
        "        Match.league_id,\n",
        "        League.name AS League_Name,\n",
        "        Match.home_team_api_id,\n",
        "        HT.team_long_name AS HT_long_name,\n",
        "        Match.away_team_api_id,\n",
        "        AT.team_long_name AS AT_long_name,\n",
        "        home_team_goal,\n",
        "        away_team_goal,\n",
        "        home_player_1,\n",
        "        home_player_2,\n",
        "        home_player_3,\n",
        "        home_player_4,\n",
        "        home_player_5,\n",
        "        home_player_6,\n",
        "        home_player_7,\n",
        "        home_player_8,\n",
        "        home_player_9,\n",
        "        home_player_10,\n",
        "        home_player_11,\n",
        "        away_player_1,\n",
        "        away_player_2,\n",
        "        away_player_3,\n",
        "        away_player_4,\n",
        "        away_player_5,\n",
        "        away_player_6,\n",
        "        away_player_7,\n",
        "        away_player_8,\n",
        "        away_player_9,\n",
        "        away_player_10,\n",
        "        away_player_11,\n",
        "        B365H,\n",
        "        B365D,\n",
        "        B365A\n",
        "    from Match\n",
        "    LEFT JOIN Country ON Match.country_id = Country.id\n",
        "    LEFT JOIN League ON Match.league_id = League.id\n",
        "    LEFT JOIN Team AS HT ON HT.team_api_id = Match.home_team_api_id\n",
        "    LEFT JOIN Team AS AT ON AT.team_api_id = Match.away_team_api_id\n",
        "    WHERE 1 = 1\n",
        "    AND Country.Name in (\"Italy\",\"Spain\")\n",
        "    AND Match.season in (\"2014/2015\",\"2015/2016\")'''\n",
        "\n",
        ")\n",
        "rows = cur.fetchall()\n",
        "names = list(map(lambda x: x[0], cur.description))\n",
        "df  = pd.DataFrame(rows, columns = names)\n",
        "\n",
        "df['date'] = pd.to_datetime(df['date'])\n",
        "df['result'] = df.apply(lambda row: assign_result(row), axis=1)\n",
        "df['home_points'] = df.apply(lambda row: assign_points_home(row), axis=1)\n",
        "df['away_points'] = df.apply(lambda row: assign_points_away(row), axis=1)\n",
        "df['year'] = [x[:4] for x in df['season']]"
      ],
      "metadata": {
        "id": "ATvfVmb5kuF3"
      },
      "execution_count": null,
      "outputs": []
    },
    {
      "cell_type": "code",
      "source": [
        "# Prepare list with player ID for dummy table with attributes\n",
        "unique_player_ids = df[\"home_player_1\"].unique()\n",
        "\n",
        "for i in range(df.columns.get_loc(\"home_player_2\"), df.columns.get_loc(\"away_player_11\")+1):\n",
        "  unique_player_ids_temp = df.iloc[:,i].unique()\n",
        "  unique_player_ids = np.append(unique_player_ids, unique_player_ids_temp) \n",
        "\n",
        "unique_player_ids = np.unique(unique_player_ids)\n",
        "unique_player_ids = unique_player_ids[~np.isnan(unique_player_ids)]\n"
      ],
      "metadata": {
        "id": "WvV9PmtVq4i5"
      },
      "execution_count": null,
      "outputs": []
    },
    {
      "cell_type": "markdown",
      "source": [
        "###**Player Attributes**"
      ],
      "metadata": {
        "id": "W2Mh4ZpOmenV"
      }
    },
    {
      "cell_type": "markdown",
      "source": [
        "- player_api_id\n",
        "- overall_rating\n",
        "- potential (probably gets more relevant the longer the season)\n",
        "\n",
        "Need to transform everything....\n",
        "\n",
        "Possible imporvements:\n",
        "- better Loop for NA Fillings\n",
        "- already restrict SQL with sub-query for players"
      ],
      "metadata": {
        "id": "IbmTZJwhLPl3"
      }
    },
    {
      "cell_type": "code",
      "source": [
        "cur.execute(\n",
        "    '''SELECT\n",
        "        player_api_id,\n",
        "        date,\n",
        "        overall_rating,\n",
        "        potential\n",
        "    FROM Player_Attributes\n",
        "    WHERE 1 = 1\n",
        " '''\n",
        "\n",
        ")\n",
        "rows = cur.fetchall()\n",
        "names = list(map(lambda x: x[0], cur.description))\n",
        "df_player  = pd.DataFrame(rows, columns = names)\n",
        "df_player['date'] = pd.to_datetime(df_player['date'])"
      ],
      "metadata": {
        "id": "2cUsj82L90O4"
      },
      "execution_count": null,
      "outputs": []
    },
    {
      "cell_type": "code",
      "source": [
        "# Fuck, anscheinend ist dies für jeden Spieler unterschiedlich\n",
        "# Vorgehen neu: \n",
        "# - Spieler Tabelle mit den Datenauffüllen und \"Duplikate\" erzeugen, damit simpel gejoint werden kann.\n",
        "# - Neue Tabelle erstellen mit allen Datum Januar 2014 - Dezember 2016\n",
        "# - Gleiches vorgehen machen wie unten mit Index (relevantes Datum finden)\n",
        "#   -> Achtung! Pro Spieler machen (evtl. wirklich subtabellen machen und dann Appenden)\n",
        "# - Joinen\n",
        "# Potenzial Verbesserung:\n",
        "# - nur Datum nehmen, an welchen auch ein Spieltag war\n",
        "  \n",
        "begin_date = '2014-01-01'\n",
        "end_date = '2016-12-31'\n",
        "df_dates = pd.DataFrame({'date':pd.date_range(begin_date, end_date)})\n",
        "\n",
        "for player in unique_player_ids:\n",
        "  \n",
        "#  print(player)\n",
        "\n",
        "  df_dates_temp = df_dates.copy(deep=True)\n",
        "  df_player_temp = df_player.loc[df_player['player_api_id'] == player]\n",
        "\n",
        "  if df_player_temp['date'].min() > datetime.datetime.strptime(begin_date,\"%Y-%m-%d\"):\n",
        "    continue\n",
        "  \n",
        "  unique_dates_player = sorted(df_player_temp[\"date\"].unique())\n",
        "  array_temp = pd.Index(unique_dates_player).get_indexer(df_dates_temp[\"date\"], method = \"backfill\")\n",
        "  df_dates_temp['date_index'] = array_temp.tolist()\n",
        "  df_dates_temp['join_date_player'] = df_dates_temp.apply(lambda row: assign_value_from_list(row, unique_dates_player), axis=1)\n",
        "  df_player_date_temp = df_dates_temp.merge(df_player_temp, how = 'left', left_on= 'join_date_player', right_on='date')\n",
        "  \n",
        "  if np.where(unique_player_ids == player)[0] == 0:\n",
        "    print(\"Done first\")\n",
        "    df_player_attributes_dates = df_player_date_temp.copy(deep=True)\n",
        "  else:\n",
        "    df_player_attributes_dates = pd.concat([df_player_attributes_dates, df_player_date_temp])\n",
        "\n",
        "df_player_attributes_dates = df_player_attributes_dates.drop(columns=['date_index', 'join_date_player', 'date_y'])"
      ],
      "metadata": {
        "id": "B_6K0ERiVWI9"
      },
      "execution_count": null,
      "outputs": []
    },
    {
      "cell_type": "code",
      "source": [
        "# Join all Attributes to all players\n",
        "\n",
        "for column in df.columns[range(df.columns.get_loc(\"home_player_1\"), df.columns.get_loc(\"away_player_11\")+1)]:\n",
        "#  print(column)\n",
        "  df_player_attributes_dates_temp = df_player_attributes_dates.copy(deep=True)\n",
        "  df_player_attributes_dates_temp.rename(columns = {'date_x':'date','player_api_id':column, 'overall_rating':(column + '_overall_rating'), 'potential':(column + '_potential')}, inplace = True)\n",
        "  df = df.merge(df_player_attributes_dates_temp, how = 'left', on=['date',column])\n",
        "\n",
        "# Add Means\n",
        "for home in [\"home_player_\", \"away_player_\"]:\n",
        "  for rating in [\"_overall_rating\", \"_potential\"]:\n",
        "    lst_names = [(home + str(i) + rating) for i in range(1,12)]\n",
        "    df[(home + 'mean' + rating)] = round(df[[c for c in df.columns if c in lst_names]].mean(axis=1),1)\n",
        "\n",
        "# Loop nicht geschafft\n",
        "df.home_player_1_overall_rating = df.home_player_1_overall_rating.fillna(df.home_player_mean_overall_rating)\n",
        "df.home_player_2_overall_rating = df.home_player_2_overall_rating.fillna(df.home_player_mean_overall_rating)\n",
        "df.home_player_3_overall_rating = df.home_player_3_overall_rating.fillna(df.home_player_mean_overall_rating)\n",
        "df.home_player_4_overall_rating = df.home_player_4_overall_rating.fillna(df.home_player_mean_overall_rating)\n",
        "df.home_player_5_overall_rating = df.home_player_5_overall_rating.fillna(df.home_player_mean_overall_rating)\n",
        "df.home_player_6_overall_rating = df.home_player_6_overall_rating.fillna(df.home_player_mean_overall_rating)\n",
        "df.home_player_7_overall_rating = df.home_player_7_overall_rating.fillna(df.home_player_mean_overall_rating)\n",
        "df.home_player_8_overall_rating = df.home_player_8_overall_rating.fillna(df.home_player_mean_overall_rating)\n",
        "df.home_player_9_overall_rating = df.home_player_9_overall_rating.fillna(df.home_player_mean_overall_rating)\n",
        "df.home_player_10_overall_rating = df.home_player_10_overall_rating.fillna(df.home_player_mean_overall_rating)\n",
        "df.home_player_11_overall_rating = df.home_player_11_overall_rating.fillna(df.home_player_mean_overall_rating)\n",
        "\n",
        "df.away_player_1_overall_rating = df.away_player_1_overall_rating.fillna(df.away_player_mean_overall_rating)\n",
        "df.away_player_2_overall_rating = df.away_player_2_overall_rating.fillna(df.away_player_mean_overall_rating)\n",
        "df.away_player_3_overall_rating = df.away_player_3_overall_rating.fillna(df.away_player_mean_overall_rating)\n",
        "df.away_player_4_overall_rating = df.away_player_4_overall_rating.fillna(df.away_player_mean_overall_rating)\n",
        "df.away_player_5_overall_rating = df.away_player_5_overall_rating.fillna(df.away_player_mean_overall_rating)\n",
        "df.away_player_6_overall_rating = df.away_player_6_overall_rating.fillna(df.away_player_mean_overall_rating)\n",
        "df.away_player_7_overall_rating = df.away_player_7_overall_rating.fillna(df.away_player_mean_overall_rating)\n",
        "df.away_player_8_overall_rating = df.away_player_8_overall_rating.fillna(df.away_player_mean_overall_rating)\n",
        "df.away_player_9_overall_rating = df.away_player_9_overall_rating.fillna(df.away_player_mean_overall_rating)\n",
        "df.away_player_10_overall_rating = df.away_player_10_overall_rating.fillna(df.away_player_mean_overall_rating)\n",
        "df.away_player_11_overall_rating = df.away_player_11_overall_rating.fillna(df.away_player_mean_overall_rating)\n",
        "\n",
        "df.home_player_1_potential = df.home_player_1_potential.fillna(df.home_player_mean_potential)\n",
        "df.home_player_2_potential = df.home_player_2_potential.fillna(df.home_player_mean_potential)\n",
        "df.home_player_3_potential = df.home_player_3_potential.fillna(df.home_player_mean_potential)\n",
        "df.home_player_4_potential = df.home_player_4_potential.fillna(df.home_player_mean_potential)\n",
        "df.home_player_5_potential = df.home_player_5_potential.fillna(df.home_player_mean_potential)\n",
        "df.home_player_6_potential = df.home_player_6_potential.fillna(df.home_player_mean_potential)\n",
        "df.home_player_7_potential = df.home_player_7_potential.fillna(df.home_player_mean_potential)\n",
        "df.home_player_8_potential = df.home_player_8_potential.fillna(df.home_player_mean_potential)\n",
        "df.home_player_9_potential = df.home_player_9_potential.fillna(df.home_player_mean_potential)\n",
        "df.home_player_10_potential = df.home_player_10_potential.fillna(df.home_player_mean_potential)\n",
        "df.home_player_11_potential = df.home_player_11_potential.fillna(df.home_player_mean_potential)\n",
        "\n",
        "df.away_player_1_potential = df.away_player_1_potential.fillna(df.away_player_mean_potential)\n",
        "df.away_player_2_potential = df.away_player_2_potential.fillna(df.away_player_mean_potential)\n",
        "df.away_player_3_potential = df.away_player_3_potential.fillna(df.away_player_mean_potential)\n",
        "df.away_player_4_potential = df.away_player_4_potential.fillna(df.away_player_mean_potential)\n",
        "df.away_player_5_potential = df.away_player_5_potential.fillna(df.away_player_mean_potential)\n",
        "df.away_player_6_potential = df.away_player_6_potential.fillna(df.away_player_mean_potential)\n",
        "df.away_player_7_potential = df.away_player_7_potential.fillna(df.away_player_mean_potential)\n",
        "df.away_player_8_potential = df.away_player_8_potential.fillna(df.away_player_mean_potential)\n",
        "df.away_player_9_potential = df.away_player_9_potential.fillna(df.away_player_mean_potential)\n",
        "df.away_player_10_potential = df.away_player_10_potential.fillna(df.away_player_mean_potential)\n",
        "df.away_player_11_potential = df.away_player_11_potential.fillna(df.away_player_mean_potential)\n",
        "\n",
        "# Compute ratio of those variables\n",
        "for rating in [\"_overall_rating\", \"_potential\"]:\n",
        "  lst_names_home = [('home_player_' + str(i) + rating) for i in range(1,12)]\n",
        "  lst_names_away = [('away_player_' + str(i) + rating) for i in range(1,12)]\n",
        "  df[('ratio' + rating)] = (df[[c for c in df.columns if c in lst_names_home]].sum(axis=1)) / (df[[c for c in df.columns if c in lst_names_away]].sum(axis= 'columns'))\n",
        "  df[('difference' + rating)] = (df[[c for c in df.columns if c in lst_names_home]].sum(axis=1)) - (df[[c for c in df.columns if c in lst_names_away]].sum(axis= 'columns'))"
      ],
      "metadata": {
        "id": "yQz6CC3wdoHb"
      },
      "execution_count": null,
      "outputs": []
    },
    {
      "cell_type": "code",
      "source": [
        "df = df.drop(df.filter(regex='home_player').columns, axis=1)\n",
        "df = df.drop(df.filter(regex='away_player').columns, axis=1)"
      ],
      "metadata": {
        "id": "nj52p9w7wMZy"
      },
      "execution_count": null,
      "outputs": []
    },
    {
      "cell_type": "markdown",
      "source": [],
      "metadata": {
        "id": "t6tDapp5LNLp"
      }
    },
    {
      "cell_type": "markdown",
      "source": [
        "###**Team Attributes**"
      ],
      "metadata": {
        "id": "pqjbhRTTsOHh"
      }
    },
    {
      "cell_type": "markdown",
      "source": [
        "- buildUpPlaySpeed\n",
        "- buildUpPlayPassing\n",
        "- chanceCreationShooting\n",
        "- defencePressure\n",
        "- defenceAggression\t\n",
        "\n",
        "Only one measurement point. Proceed:\n",
        "- Extract year from date (as integer)\n",
        "- Extract first year from season in Match table\n",
        "- Join (hope not many n/a...)"
      ],
      "metadata": {
        "id": "pACkT3z2LWip"
      }
    },
    {
      "cell_type": "code",
      "source": [
        "cur.execute(\n",
        "    '''SELECT\n",
        "          Team_Attributes.team_api_id AS home_team_api_id,\n",
        "          Team_Attributes.date,\n",
        "          buildUpPlaySpeed,\n",
        "          buildUpPlayPassing,\n",
        "          chanceCreationShooting,\n",
        "          defencePressure,\n",
        "          defenceAggression\n",
        "    FROM Team_Attributes\n",
        "    WHERE Team_Attributes.team_api_id in (\n",
        "      SELECT home_team_api_id\n",
        "      from Match\n",
        "      LEFT JOIN Country ON Match.country_id = Country.id\n",
        "      LEFT JOIN League ON Match.league_id = League.id\n",
        "      WHERE 1 = 1\n",
        "      AND Country.Name in (\"Italy\",\"Spain\")\n",
        "      AND Match.season in (\"2014/2015\",\"2015/2016\")) OR\n",
        "      Team_Attributes.team_api_id in (\n",
        "      SELECT away_team_api_id\n",
        "      from Match\n",
        "      LEFT JOIN Country ON Match.country_id = Country.id\n",
        "      LEFT JOIN League ON Match.league_id = League.id\n",
        "      WHERE 1 = 1\n",
        "      AND Country.Name in (\"Italy\",\"Spain\")\n",
        "      AND Match.season in (\"2014/2015\",\"2015/2016\"))'''\n",
        ")\n",
        "rows = cur.fetchall()\n",
        "names = list(map(lambda x: x[0], cur.description))\n",
        "df_team  = pd.DataFrame(rows, columns = names)\n",
        "df_team['date'] = pd.to_datetime(df_team['date'])\n",
        "df_team['year'] = pd.DatetimeIndex(df_team['date']).year\n",
        "df_team['year'] = df_team['year'].apply(str)\n",
        "df_team = df_team.drop(['date'], axis=1)"
      ],
      "metadata": {
        "id": "S3pSWjHLTZLe"
      },
      "execution_count": null,
      "outputs": []
    },
    {
      "cell_type": "code",
      "source": [
        "\n",
        "df_team_away = df_team.copy(deep = True)\n",
        "df_team_away.rename(columns = {\n",
        "    'home_team_api_id':'away_team_api_id',\n",
        "    'buildUpPlaySpeed':'buildUpPlaySpeed_away',\n",
        "    'buildUpPlayPassing':'buildUpPlayPassing_away',\n",
        "    'chanceCreationShooting':'chanceCreationShooting_away',\n",
        "    'defencePressure':'defencePressure_away',\n",
        "    'defenceAggression':'defenceAggression_away'}, inplace = True)\n",
        "\n",
        "df = df.merge(df_team, how = 'left', on=['year',\"home_team_api_id\"])\n",
        "df = df.merge(df_team_away, how = 'left', on=['year',\"away_team_api_id\"])\n",
        "\n",
        "# Calculate Ratios\n",
        "for c in range(df.columns.get_loc(\"buildUpPlaySpeed\"),df.columns.get_loc(\"defenceAggression\") + 1):  \n",
        "  df[('ratio_' + df.columns[c])] =  df.iloc[:,c] / df.iloc[:,(c + 5)]\n",
        "  df[('difference_' + df.columns[c])] =  df.iloc[:,c] - df.iloc[:,(c + 5)]\n",
        "\n",
        "# Drop columns with Team information\n",
        "df = df.drop(df.iloc[:, df.columns.get_loc(\"buildUpPlaySpeed\"):(df.columns.get_loc(\"defenceAggression_away\") + 1)],axis = 1)"
      ],
      "metadata": {
        "id": "K7ZuLlUduPIZ"
      },
      "execution_count": null,
      "outputs": []
    },
    {
      "cell_type": "markdown",
      "source": [
        "###**Point of the last 3 Matches**"
      ],
      "metadata": {
        "id": "PNVs_EvODgSK"
      }
    },
    {
      "cell_type": "code",
      "source": [
        "# Make new dataframe with all columns home and for away, then combine\n",
        "# - Loop through each team\n",
        "\n",
        "df_matches_home = df[[\"season\",\"stage\",\"home_team_api_id\",\"home_points\"]].copy()\n",
        "df_matches_away = df[[\"season\",\"stage\",\"away_team_api_id\",\"away_points\"]].copy()\n",
        "\n",
        "df_matches_home.rename(columns = {\n",
        "    'home_team_api_id':'team_api_id',\n",
        "    'home_points':'points'}, inplace = True)\n",
        "\n",
        "df_matches_away.rename(columns = {\n",
        "    'away_team_api_id':'team_api_id',\n",
        "    'away_points':'points'}, inplace = True)\n",
        "\n",
        "df_matches_teams = pd.concat([df_matches_home, df_matches_away])\n",
        "\n",
        "cnt = 1\n",
        "\n",
        "for team in df_matches_teams[\"team_api_id\"].unique():\n",
        "  df_team_temp = df_matches_teams.loc[df_matches_teams['team_api_id'] == team]\n",
        "  df_team_temp = df_team_temp.sort_values(by=['season','stage'])\n",
        "  df_team_temp['last_games_points'] = np.where(df_team_temp['season'] ==  df_team_temp['season'].shift(3), df_team_temp['points'].shift(1) + df_team_temp['points'].shift(2) + df_team_temp['points'].shift(3), np.nan)\n",
        "  if cnt == 1:\n",
        "    df_team_points = df_team_temp.copy()\n",
        "    cnt = 2\n",
        "  else:\n",
        "    df_team_points = pd.concat([df_team_points, df_team_temp])\n",
        "\n",
        "df_team_points = df_team_points.drop(['points'], axis=1)\n",
        "df_team_points.rename(columns = {\n",
        "    'last_games_points':'last_games_points_home',\n",
        "    'team_api_id': 'home_team_api_id'}, inplace = True)\n",
        "df = df.merge(df_team_points, how = 'left', on = ['season',\"stage\",\"home_team_api_id\"])\n",
        "\n",
        "df_team_points.rename(columns = {\n",
        "    'last_games_points_home':'last_games_points_away',\n",
        "    'home_team_api_id': 'away_team_api_id'}, inplace = True)\n",
        "df = df.merge(df_team_points, how = 'left', on = ['season',\"stage\",\"away_team_api_id\"])\n",
        "\n",
        "df['difference_points_last_games'] = df['last_games_points_home'] - df['last_games_points_away']"
      ],
      "metadata": {
        "id": "L_SVZ5_ZDadv"
      },
      "execution_count": null,
      "outputs": []
    },
    {
      "cell_type": "markdown",
      "source": [
        "###**Ranking Table**"
      ],
      "metadata": {
        "id": "fEpZe9vYo-nF"
      }
    },
    {
      "cell_type": "markdown",
      "source": [
        "Vorgehen:\n",
        "- Benötigte zusätzliche Spalten berechnen pro Match\n",
        "  - Points Home, Goals, Receives Goals, ...\n",
        "\n",
        "- Loop pro Stage machen:\n",
        "  - Dataframe für Home Team**s** erstellen (einfach nur die Spalten mit Hometeam\n",
        "  - Dataframe für Away Team**s** erstellen\n",
        "  - Dataframes kombinieren (einfach einen Dataframe erstellen mit allen Records (evtl. müssen die Spalten gleich heissen)\n",
        "  - Wenn es die erste Stage ist:\n",
        "    - Resultierende Tabelle ist bereits die Schlusstabelle\n",
        "    - Sortieren nach Punkten, Toren -> Rängevergeben (einfach 1 - ?)\n",
        "  - Wenn es die zweite, dritte Tabelle ist:\n",
        "    - Bestehende Tabelle der Vorstage nehmen und den Dataframe mit den Stageresultaten auf die Teams joinen (s-verweis)\n",
        "    - Bestehende resultate mit den neuen kumulieren\n",
        "    - sortieren und neue Ränge berechnen"
      ],
      "metadata": {
        "id": "8EyWfhFsLJek"
      }
    },
    {
      "cell_type": "code",
      "source": [
        "df_matches_home = df[[\"Country_Name\",\"season\",\"stage\",\"home_team_api_id\",\"home_points\",\"home_team_goal\",\"away_team_goal\"]].copy()\n",
        "df_matches_away = df[[\"Country_Name\",\"season\",\"stage\",\"away_team_api_id\",\"away_points\",\"away_team_goal\",\"home_team_goal\"]].copy()\n",
        "\n",
        "df_matches_home.rename(columns = {\n",
        "    'home_team_api_id':'team_api_id',\n",
        "    'home_points':'points',\n",
        "    'home_team_goal':'goals',\n",
        "    'away_team_goal':'received_goals'}, inplace = True)\n",
        "\n",
        "df_matches_away.rename(columns = {\n",
        "    'away_team_api_id':'team_api_id',\n",
        "    'away_points':'points',\n",
        "    'away_team_goal':'goals',\n",
        "    'home_team_goal':'received_goals'}, inplace = True)\n",
        "\n",
        "df_matches_teams = pd.concat([df_matches_home, df_matches_away])\n",
        "\n",
        "cnt = 1\n",
        "\n",
        "for country in df_matches_teams[\"Country_Name\"].unique():\n",
        "  for season in df_matches_teams[\"season\"].unique():\n",
        "    for stage in sorted(df_matches_teams[\"stage\"].unique()):\n",
        "      if stage == 1:\n",
        "        df_results_ranking_temp = df_matches_teams.loc[(df_matches_teams[\"Country_Name\"] == country) & \n",
        "                                          (df_matches_teams[\"season\"] == season) & \n",
        "                                          (df_matches_teams[\"stage\"] == stage), :]\n",
        "        df_results_ranking_temp['difference_goals'] = df_results_ranking_temp.loc[:, 'goals'] - df_results_ranking_temp.loc[:, 'received_goals']\n",
        "        df_results_ranking_temp = df_results_ranking_temp.sort_values(['points', 'difference_goals','goals'], ascending = [False, False, False])\n",
        "        ranking = list(range(1,len(df_results_ranking_temp)+1))\n",
        "        df_results_ranking_temp['ranking'] = ranking\n",
        "        if cnt == 1:\n",
        "          df_results_ranking = df_results_ranking_temp.copy()\n",
        "          cnt = 2\n",
        "        else:\n",
        "         df_results_ranking = pd.concat([df_results_ranking, df_results_ranking_temp])         \n",
        "      else:\n",
        "        df_results_ranking_temp = df_matches_teams.loc[(df_matches_teams[\"Country_Name\"] == country) & \n",
        "                                               (df_matches_teams[\"season\"] == season) & \n",
        "                                               (df_matches_teams[\"stage\"] == stage), ['Country_Name','season','stage','team_api_id','points','goals','received_goals']]\n",
        "        df_results_ranking_temp.rename(columns = {\n",
        "            'points':'stage_points',\n",
        "            'goals':'stage_goals',\n",
        "            'received_goals':'stage_received_goals'}, inplace = True)\n",
        "\n",
        "        df_results_ranking_temp_previous = df_results_ranking.loc[(df_results_ranking[\"Country_Name\"] == country) & \n",
        "                                                                  (df_results_ranking[\"season\"] == season) & \n",
        "                                                                  (df_results_ranking[\"stage\"] == (stage - 1)), ['team_api_id','points','goals','received_goals']]\n",
        "\n",
        "        df_results_ranking_temp_previous = df_results_ranking_temp.merge(df_results_ranking_temp_previous, how = 'left', on = ['team_api_id'])\n",
        "\n",
        "        df_results_ranking_temp_previous['points'] = df_results_ranking_temp_previous.loc[:, 'stage_points'] + df_results_ranking_temp_previous.loc[:, 'points']\n",
        "        df_results_ranking_temp_previous['goals'] = df_results_ranking_temp_previous.loc[:, 'stage_goals'] + df_results_ranking_temp_previous.loc[:, 'goals']\n",
        "        df_results_ranking_temp_previous['received_goals'] = df_results_ranking_temp_previous.loc[:, 'stage_received_goals'] + df_results_ranking_temp_previous.loc[:, 'received_goals']\n",
        "        df_results_ranking_temp_previous['difference_goals'] = df_results_ranking_temp_previous.loc[:, 'goals'] - df_results_ranking_temp_previous.loc[:, 'received_goals']\n",
        "        df_results_ranking_temp_previous = df_results_ranking_temp_previous.sort_values(['points', 'difference_goals','goals'], ascending = [False, False, False])\n",
        "\n",
        "        list_ranking = list(range(1,len(df_results_ranking_temp_previous)+1))\n",
        "\n",
        "        df_results_ranking_temp_previous['ranking'] = list_ranking\n",
        "        df_results_ranking_temp_previous = df_results_ranking_temp_previous.drop(['stage_points','stage_goals','stage_received_goals'], axis = 1) \n",
        "\n",
        "        df_results_ranking = pd.concat([df_results_ranking, df_results_ranking_temp_previous])\n"
      ],
      "metadata": {
        "id": "LLEQzBS-o9g2"
      },
      "execution_count": null,
      "outputs": []
    },
    {
      "cell_type": "code",
      "source": [
        "# Wichtig: Punkte von der Vorstage nehmen und nicht jene aus der Stage (entspricht dem Resultat NACH dem Spiel!)\n",
        "# -> Bei Stage 2 Braucht es die Tabelle aus Stage 1, d.h 1 + 1 = 2 damit Join geht \n",
        "df_results_ranking['stage'] = df_results_ranking['stage'] + 1\n",
        "\n",
        "df_results_ranking.rename(columns = {'team_api_id':'home_team_api_id',\n",
        "                                          'ranking':'home_ranking',\n",
        "                                          'points':'home_points_ranking'}, inplace = True)\n",
        "\n",
        "df_results_ranking = df_results_ranking.drop(['goals','received_goals','difference_goals'], axis = 1) \n",
        "\n",
        "df = df.merge(df_results_ranking, how = 'left', on = ['Country_Name','season','stage','home_team_api_id'])\n",
        "\n",
        "df_results_ranking.rename(columns = {'home_team_api_id':'away_team_api_id',\n",
        "                                     'home_ranking':'away_ranking',\n",
        "                                     'home_points_ranking':'away_points_ranking'}, inplace = True)\n",
        "\n",
        "df = df.merge(df_results_ranking, how = 'left', on = ['Country_Name','season','stage','away_team_api_id'])\n",
        "\n"
      ],
      "metadata": {
        "id": "iVNHyJVB-NJ_"
      },
      "execution_count": null,
      "outputs": []
    },
    {
      "cell_type": "code",
      "source": [
        "df['difference_points_ranking'] = df.loc[:, 'home_points_ranking'] - df.loc[:, 'away_points_ranking']\n",
        "df['difference_ranks'] = df.loc[:, 'home_ranking'] - df.loc[:, 'away_ranking']\n",
        "df.head()"
      ],
      "metadata": {
        "id": "jFBucs_LFSfZ"
      },
      "execution_count": null,
      "outputs": []
    },
    {
      "cell_type": "code",
      "source": [
        "from sklearn import linear_model\n",
        "from sklearn import tree\n",
        "from sklearn import ensemble\n",
        "\n",
        "from sklearn.datasets import make_blobs\n",
        "from sklearn.model_selection import train_test_split\n",
        "from sklearn import metrics\n",
        "from sklearn.inspection import permutation_importance\n",
        "from sklearn.metrics import confusion_matrix, ConfusionMatrixDisplay, accuracy_score\n",
        "\n",
        "# common visualization module\n",
        "from matplotlib import pyplot as plt\n",
        "import plotly.express as px\n",
        "import seaborn as sns\n",
        "sns.set()\n",
        "\n",
        "# numeric library\n",
        "import os\n",
        "import sys\n",
        "from time import time as timer\n",
        "import tarfile\n",
        "import math\n",
        "\n",
        "import tensorflow as tf\n",
        "\n",
        "%matplotlib inline\n",
        "from matplotlib import animation\n",
        "from IPython.display import HTML"
      ],
      "metadata": {
        "id": "DpGkl-hCeIBk"
      },
      "execution_count": null,
      "outputs": []
    },
    {
      "cell_type": "markdown",
      "source": [
        "###**Descrptive Statistics**"
      ],
      "metadata": {
        "id": "Tg_QNmYKAs41"
      }
    },
    {
      "cell_type": "markdown",
      "source": [
        "* all Ratios in boxplots across the targets\n",
        "* Correlation Matrix between the ratios\n",
        "* Maybe something with the country"
      ],
      "metadata": {
        "id": "u6ArUZNVLFew"
      }
    },
    {
      "cell_type": "markdown",
      "source": [
        "###**Model**\n"
      ],
      "metadata": {
        "id": "guuTc49H_6cq"
      }
    },
    {
      "cell_type": "markdown",
      "source": [
        "\n",
        "* Columns used:\n",
        "  * Country_Name (maybe not)\n",
        "  * B365H\n",
        "  * B365D\n",
        "  * B365A\n",
        "  * ratio_overall_rating\n",
        "  * ratio_potential\n",
        "  * ratio_buildUpPlaySpeed\n",
        "  * ratio_buildUpPlayPassing\n",
        "  * ratio_chanceCreationShooting\n",
        "  * ratio_defencePressure\n",
        "  * ratio_defenceAggression\n",
        "  * last_games_points_away\n",
        "  * Rank difference or ranks\n",
        "\n",
        "Total 13 columns\n",
        "\n",
        "* Target\n",
        "  * result\n",
        "\n",
        "\n",
        "Dataframe preparation:\n",
        "* Delete stages 1-3\n",
        "* Train: 38 Stages total, so 4 - 32 Stages for Training, rest is validation set\n",
        "  * Could also test for random selection, but guess ist not worthy\n",
        "\n",
        "Could do a Model with PCA scores"
      ],
      "metadata": {
        "id": "05pkQvKfLBud"
      }
    },
    {
      "cell_type": "code",
      "source": [
        "df_test = df.loc[df[\"Country_Name\"] == \"Spain\"  ,['stage']]\n",
        "df_test[\"stage\"].unique()"
      ],
      "metadata": {
        "id": "GJQAzId3-Qlc"
      },
      "execution_count": null,
      "outputs": []
    },
    {
      "cell_type": "code",
      "source": [
        "df.info()"
      ],
      "metadata": {
        "id": "t8QXAExvawA5"
      },
      "execution_count": null,
      "outputs": []
    },
    {
      "cell_type": "markdown",
      "source": [
        "###**Conclusions descriptive statistics**\n"
      ],
      "metadata": {
        "id": "KIi_CS1Ysdke"
      }
    },
    {
      "cell_type": "markdown",
      "source": [
        "Correlation Heatmap\n",
        "- ratio_overall_rating and ratio_potential is practically 1, so exclude ratio_potential --> use new one?\n",
        "- ratio_overall_rating has a high correlation with the odds\n",
        "  - the higher the ratio (means, Home has higher score than Away) the lower the odds for B365H (which makes sense)\n",
        "- Medium correlation between ratio_buildUpPlaySpeed and ratio_buildUpPlayPassing\n",
        "- Correlation between difference_points_ranking, difference_ranks\n",
        "Target related"
      ],
      "metadata": {
        "id": "1Bc9X6XNK6Pa"
      }
    },
    {
      "cell_type": "code",
      "source": [
        "#corr_matrix = df.loc[:, ['B365H','B365D','B365A','ratio_overall_rating','ratio_potential','ratio_buildUpPlaySpeed','ratio_buildUpPlayPassing','ratio_chanceCreationShooting',\n",
        "#                         'ratio_defencePressure','ratio_defenceAggression','difference_points_last_games','difference_points_ranking','difference_ranks']].corr()\n",
        "#fig, ax = plt.subplots(figsize=(10,10))\n",
        "#sns.heatmap(corr_matrix, annot=True)\n",
        "#plt.show()\n",
        "#'difference_buildUpPlaySpeed',"
      ],
      "metadata": {
        "id": "eukkOkrdSLKS"
      },
      "execution_count": null,
      "outputs": []
    },
    {
      "cell_type": "code",
      "source": [
        "corr_matrix = df.loc[:, ['B365H','B365D','B365A','difference_overall_rating','difference_potential','difference_buildUpPlaySpeed','difference_buildUpPlayPassing','difference_chanceCreationShooting',\n",
        "                         'difference_defencePressure','difference_defenceAggression','difference_points_last_games','difference_points_ranking','difference_ranks']].corr()\n",
        "fig, ax = plt.subplots(figsize=(10,10))\n",
        "sns.heatmap(corr_matrix, annot=True)\n",
        "plt.show()\n",
        "\n",
        "# Mostly \"Problematic\":\n",
        "# - overall_rating and B365H\n",
        "# - overall_rating and B365A\n",
        "# - difference_points_ranking and overall_rating\n",
        "# - B356D and B365A"
      ],
      "metadata": {
        "id": "WoGiOYOEdxlt"
      },
      "execution_count": null,
      "outputs": []
    },
    {
      "cell_type": "code",
      "source": [
        "df.info()"
      ],
      "metadata": {
        "id": "AsDM-haLdyZv"
      },
      "execution_count": null,
      "outputs": []
    },
    {
      "cell_type": "code",
      "source": [
        "#corr_matrix = df.loc[df[\"Country_Name\"] == \"Italy\", ['B365H','B365D','B365A','ratio_overall_rating','ratio_potential','ratio_buildUpPlaySpeed','ratio_buildUpPlayPassing','ratio_chanceCreationShooting','ratio_defencePressure','ratio_defenceAggression','difference_points_last_games']].corr()\n",
        "#fig, ax = plt.subplots(figsize=(10,10))\n",
        "#sns.heatmap(corr_matrix, annot=True)\n",
        "#plt.show()"
      ],
      "metadata": {
        "id": "8MFGhKF1xXXw"
      },
      "execution_count": null,
      "outputs": []
    },
    {
      "cell_type": "code",
      "source": [
        "#corr_matrix = df.loc[df[\"Country_Name\"] == \"Spain\", ['B365H','B365D','B365A','ratio_overall_rating','ratio_potential','ratio_buildUpPlaySpeed','ratio_buildUpPlayPassing','ratio_chanceCreationShooting','ratio_defencePressure','ratio_defenceAggression','difference_points_last_games']].corr()\n",
        "#fig, ax = plt.subplots(figsize=(10,10))\n",
        "#sns.heatmap(corr_matrix, annot=True)\n",
        "#plt.show()"
      ],
      "metadata": {
        "id": "_yw3Og9OxtfO"
      },
      "execution_count": null,
      "outputs": []
    },
    {
      "cell_type": "markdown",
      "source": [
        "Mostly homewins, but the distribution is still ok, not too much skewed"
      ],
      "metadata": {
        "id": "z1DOwUxav2kC"
      }
    },
    {
      "cell_type": "code",
      "source": [
        "# Everything\n",
        "\n",
        "plot_all = df['result'].value_counts()\n",
        "plot_all.plot(kind='barh')\n",
        "plt.title(\"Whole Set\")\n",
        "plt.show()\n",
        "\n",
        "# Spain and Italy\n",
        "plot_spain = df.loc[df.Country_Name == 'Italy'].iloc[:, 17].value_counts()\n",
        "plot_spain.plot(kind='barh')\n",
        "plt.title(\"Italy\")\n",
        "plt.show()\n",
        "\n",
        "plot_spain = df.loc[df.Country_Name == 'Spain'].iloc[:, 17].value_counts()\n",
        "plot_spain.plot(kind='barh')\n",
        "plt.title(\"Spain\")\n",
        "plt.show()\n",
        "\n",
        "# Test Set\n",
        "plot_train = df.loc[df.stage <= 32].iloc[:, 17].value_counts()\n",
        "plot_train.plot(kind='barh')\n",
        "plt.title(\"Train Set\")\n",
        "plt.show()\n",
        "\n",
        "# Train Set\n",
        "plot_test = df.loc[df.stage > 32].iloc[:, 17].value_counts()\n",
        "plot_test.plot(kind='barh')\n",
        "plt.title(\"Test Set\")\n",
        "plt.show()"
      ],
      "metadata": {
        "id": "6c3TCTEEtzYc"
      },
      "execution_count": null,
      "outputs": []
    },
    {
      "cell_type": "code",
      "source": [
        "#fig, ax = plt.subplots(nrows=2, ncols=2)\n",
        "#ax[0,0].bar(x[['result']], x[['count']])\n",
        "#ax3 = df.loc[df[\"stage\"] <= 32, ['result']].value_counts().plot(kind='barh')"
      ],
      "metadata": {
        "id": "72hU4eCpCAqJ"
      },
      "execution_count": null,
      "outputs": []
    },
    {
      "cell_type": "markdown",
      "source": [
        "Ratio below one means, tha rating of the home team is lower than the one from the away team"
      ],
      "metadata": {
        "id": "ZZ-sVJvr0GCj"
      }
    },
    {
      "cell_type": "code",
      "source": [
        "fig, ax = plt.subplots(1,1)\n",
        "df.pivot(columns='result', values='difference_overall_rating').boxplot()\n",
        "ax.set_title('Ratio Overall Rating')\n",
        "ax.set_ylabel('Ratio')\n",
        "fig.set_figheight(10)\n",
        "fig.set_figwidth(10)\n",
        "plt.show()"
      ],
      "metadata": {
        "id": "FgDxjZE4ypJi"
      },
      "execution_count": null,
      "outputs": []
    },
    {
      "cell_type": "code",
      "source": [
        "plt.hist(df.ratio_overall_rating, bins=10)\n",
        "plt.title('Histrogramm of ratio_overall_rating')\n",
        "plt.show()\n",
        "\n",
        "plt.hist(df.difference_overall_rating, bins=10)\n",
        "plt.title('Histrogramm of difference_overall_rating')\n",
        "plt.show()\n",
        "\n",
        "plt.hist(df.ratio_buildUpPlaySpeed, bins=10)\n",
        "plt.title('Histrogramm of ratio_buildUpPlaySpeed')\n",
        "plt.show()\n",
        "\n",
        "plt.hist(df.difference_buildUpPlaySpeed, bins=10)\n",
        "plt.title('Histrogramm of difference_buildUpPlaySpeed')\n",
        "plt.show()\n",
        "\n",
        "plt.hist(df.difference_points_ranking, bins=10)\n",
        "plt.title('Histrogramm of difference_points_ranking')\n",
        "plt.show()\n",
        "\n",
        "plt.hist(df.ratio_defenceAggression, bins=10)\n",
        "plt.title('Histrogramm of ratio_defenceAggression')\n",
        "plt.show()\n",
        "\n",
        "plt.hist(df.B365H, bins=20)\n",
        "plt.title('Histrogramm of B365H')\n",
        "plt.show()\n",
        "\n",
        "print(min(df.B365H))\n",
        "\n",
        "df.columns"
      ],
      "metadata": {
        "id": "jJTbxK0oWiy0"
      },
      "execution_count": null,
      "outputs": []
    },
    {
      "cell_type": "markdown",
      "source": [
        "If the hometeam wins, the odds are low, if the away team wins, the odds are high (meaning odds, that hometeam wins since are not favoured)$\n",
        "- Actually fits the expectations"
      ],
      "metadata": {
        "id": "xrzf8UNMa-Rj"
      }
    },
    {
      "cell_type": "code",
      "source": [
        "fig, ax = plt.subplots(1,1)\n",
        "df.pivot(columns='result', values='B365H').boxplot()\n",
        "ax.set_title('Odds Win Hometeam')\n",
        "ax.set_ylabel(r'Odds')\n",
        "fig.set_figheight(10)\n",
        "fig.set_figwidth(10)\n",
        "plt.show()"
      ],
      "metadata": {
        "id": "nzBYPUdbzcxN"
      },
      "execution_count": null,
      "outputs": []
    },
    {
      "cell_type": "code",
      "source": [
        "fig, ax = plt.subplots(1,1)\n",
        "df.pivot(columns='result', values='difference_points_last_games').boxplot()\n",
        "ax.set_title('Difference Points Last three games')\n",
        "ax.set_ylabel(r'Difference')\n",
        "fig.set_figheight(10)\n",
        "fig.set_figwidth(10)\n",
        "plt.show()"
      ],
      "metadata": {
        "id": "Jy_8p7YKb5NZ"
      },
      "execution_count": null,
      "outputs": []
    },
    {
      "cell_type": "code",
      "source": [
        "fig, ax = plt.subplots(1,1)\n",
        "df.pivot(columns='result', values='difference_points_ranking').boxplot()\n",
        "ax.set_title('Difference Points Ranking')\n",
        "ax.set_ylabel(r'Difference')\n",
        "fig.set_figheight(10)\n",
        "fig.set_figwidth(10)\n",
        "plt.show()"
      ],
      "metadata": {
        "id": "aLwWNbgqLk_4"
      },
      "execution_count": null,
      "outputs": []
    },
    {
      "cell_type": "code",
      "source": [
        "# Encoding Factor Country\n",
        "df_dummies = pd.get_dummies(df['Country_Name'])\n",
        "df_dummies.head()\n",
        "df = df.join(df_dummies)\n",
        "df.columns"
      ],
      "metadata": {
        "id": "DxUKz0x9IGRp"
      },
      "execution_count": null,
      "outputs": []
    },
    {
      "cell_type": "markdown",
      "source": [
        "###**Random Forest**\n",
        "\n"
      ],
      "metadata": {
        "id": "2Y7v4W87PT_P"
      }
    },
    {
      "cell_type": "markdown",
      "source": [
        "With Ratios (Not Used)"
      ],
      "metadata": {
        "id": "dcN_WmDZK12x"
      }
    },
    {
      "cell_type": "code",
      "source": [
        "x_train = df.loc[(df[\"stage\"] >= 4) & (df[\"stage\"] <= 32), ['Italy','B365H','B365D','B365A','ratio_overall_rating','ratio_buildUpPlaySpeed','ratio_buildUpPlayPassing','ratio_chanceCreationShooting',\n",
        "                                                            'ratio_defencePressure','ratio_defenceAggression','difference_points_last_games','difference_points_ranking']]\n",
        "y_train = df.loc[(df[\"stage\"] >= 4) & (df[\"stage\"] <= 32), ['result']]\n",
        "\n",
        "x_validation = df.loc[(df[\"stage\"] > 32) & (df[\"stage\"] <= 35) , ['Italy','B365H','B365D','B365A','ratio_overall_rating','ratio_buildUpPlaySpeed','ratio_buildUpPlayPassing','ratio_chanceCreationShooting','ratio_defencePressure',\n",
        "                                    'ratio_defenceAggression','difference_points_last_games','difference_points_ranking']]\n",
        "y_validation = df.loc[(df[\"stage\"] > 32) & (df[\"stage\"] <= 35), ['result']]\n",
        "\n",
        "x_test = df.loc[df[\"stage\"] > 35 , ['Italy','B365H','B365D','B365A','ratio_overall_rating','ratio_buildUpPlaySpeed','ratio_buildUpPlayPassing','ratio_chanceCreationShooting','ratio_defencePressure',\n",
        "                                    'ratio_defenceAggression','difference_points_last_games','difference_points_ranking']]\n",
        "y_test = df.loc[df[\"stage\"] > 35, ['result']]"
      ],
      "metadata": {
        "id": "3AphnOt5C6IH"
      },
      "execution_count": null,
      "outputs": []
    },
    {
      "cell_type": "code",
      "source": [
        "print(len(x_train))\n",
        "print(len(x_test))"
      ],
      "metadata": {
        "id": "ACOYhknKDGLw"
      },
      "execution_count": null,
      "outputs": []
    },
    {
      "cell_type": "code",
      "source": [
        "res = []\n",
        "for estimators in [1,10,50,100]:\n",
        "  for depth in [2,4,6,8]:\n",
        "    rfc = ensemble.RandomForestClassifier(max_depth=4, n_estimators=estimators,)\n",
        "    rfc = rfc.fit(x_train, y_train.values.ravel())\n",
        "    print(f\"Estimators: \", {estimators}, \"Depth: \", {depth})\n",
        "#    print(\"rfc training score : %.3f\" % (rfc.score(x_train, y_train)))\n",
        "    print(\"rfc test score : %.3f\" % (rfc.score(x_validation, y_validation)))\n",
        "    res.append(rfc.score(x_validation, y_validation))"
      ],
      "metadata": {
        "id": "OO1KEHhlHhei"
      },
      "execution_count": null,
      "outputs": []
    },
    {
      "cell_type": "code",
      "source": [
        "sorted(res)"
      ],
      "metadata": {
        "id": "xqlDPVxhCeTr"
      },
      "execution_count": null,
      "outputs": []
    },
    {
      "cell_type": "code",
      "source": [
        "x_train = df.loc[(df[\"stage\"] >= 4) & (df[\"stage\"] <= 35), ['Italy','B365H','B365D','B365A','ratio_overall_rating','ratio_buildUpPlaySpeed','ratio_buildUpPlayPassing','ratio_chanceCreationShooting',\n",
        "                                                            'ratio_defencePressure','ratio_defenceAggression','difference_points_last_games','difference_points_ranking']]\n",
        "y_train = df.loc[(df[\"stage\"] >= 4) & (df[\"stage\"] <= 35), ['result']]\n",
        "x_test = df.loc[df[\"stage\"] > 35 , ['Italy','B365H','B365D','B365A','ratio_overall_rating','ratio_buildUpPlaySpeed','ratio_buildUpPlayPassing','ratio_chanceCreationShooting','ratio_defencePressure',\n",
        "                                    'ratio_defenceAggression','difference_points_last_games','difference_points_ranking']]\n",
        "y_test = df.loc[df[\"stage\"] > 35, ['result']]"
      ],
      "metadata": {
        "id": "s3IplD3QOfqB"
      },
      "execution_count": null,
      "outputs": []
    },
    {
      "cell_type": "code",
      "source": [
        "rfc = ensemble.RandomForestClassifier(max_depth=6, n_estimators=100,)\n",
        "rfc = rfc.fit(x_train, y_train.values.ravel())\n",
        "print(f\"Estimators: \", {estimators})\n",
        "print(\"rfc training score : %.3f\" % (rfc.score(x_train, y_train)))\n",
        "print(\"rfc test score : %.3f\" % (rfc.score(x_test, y_test)))"
      ],
      "metadata": {
        "id": "dqX0mx_nMXO1"
      },
      "execution_count": null,
      "outputs": []
    },
    {
      "cell_type": "code",
      "source": [
        "def plot_feature_importance(importance,names,model_type):\n",
        "\n",
        "#Create arrays from feature importance and feature names\n",
        "  feature_importance = np.array(importance)\n",
        "  feature_names = np.array(names)\n",
        "\n",
        "#Create a DataFrame using a Dictionary\n",
        "  data={'feature_names':feature_names,'feature_importance':feature_importance}\n",
        "  fi_df = pd.DataFrame(data)\n",
        "\n",
        "#Sort the DataFrame in order decreasing feature importance\n",
        "  fi_df.sort_values(by=['feature_importance'], ascending=False,inplace=True)\n",
        "\n",
        "#Define size of bar plot\n",
        "  plt.figure(figsize=(10,8))\n",
        "#Plot Searborn bar chart\n",
        "  sns.barplot(x=fi_df['feature_importance'], y=fi_df['feature_names'])\n",
        "#Add chart labels\n",
        "  plt.title(model_type + ' Feature Importance')\n",
        "  plt.xlabel('Feature Importance')\n",
        "  plt.ylabel('Feature Names')\n",
        "\n",
        "plot_feature_importance(rfc.feature_importances_,x_train.columns,'Random Forest')"
      ],
      "metadata": {
        "id": "2lciIKdIKsDJ"
      },
      "execution_count": null,
      "outputs": []
    },
    {
      "cell_type": "markdown",
      "source": [
        "###**Confusion Matrix**"
      ],
      "metadata": {
        "id": "gzcALhSjFDj6"
      }
    },
    {
      "cell_type": "code",
      "source": [
        "y_pred = rfc.predict(x_test)\n",
        "cm = confusion_matrix(y_test, y_pred)\n",
        "y_test\n",
        "print(cm)\n",
        "print(\"rfc test score : %.3f\" % (rfc.score(x_test, y_test)))\n",
        "\n",
        "cm_df = pd.DataFrame(cm,\n",
        "                     index = ['away','draw','home'], \n",
        "                     columns = ['away','draw','home'])\n",
        "\n",
        "plt.figure(figsize=(5,4))\n",
        "sns.heatmap(cm_df, annot=True, linewidth=.5)\n",
        "plt.title('Confusion Matrix')\n",
        "plt.ylabel('Actal Values')\n",
        "plt.xlabel('Predicted Values')\n",
        "plt.show()"
      ],
      "metadata": {
        "id": "Y2qKwR8WFCOi"
      },
      "execution_count": null,
      "outputs": []
    },
    {
      "cell_type": "code",
      "source": [
        "y_pred_prob = rfc.predict_proba(x_test)\n",
        "y_pred = rfc.predict(x_test)\n",
        "y_pred_prob_max = np.amax(y_pred_prob, axis = 1)\n",
        "df_pred = pd.DataFrame(\n",
        "    {'probability': y_pred_prob_max,\n",
        "     'label': y_pred\n",
        "    })\n",
        "\n",
        "df_pred['label_true'] = y_test['result'].values\n",
        "\n",
        "df_pred['probability'].hist(by=df_pred['label'],\n",
        "                            bins=[0, 0.1, 0.2, 0.3, 0.4, 0.5, 0.6, 0.7, 0.8, 0.9, 1], \n",
        "                            edgecolor='black', \n",
        "                            figsize = (8,6)) "
      ],
      "metadata": {
        "id": "uP7VTwxOGqb_"
      },
      "execution_count": null,
      "outputs": []
    },
    {
      "cell_type": "code",
      "source": [
        "for cut in [0.7,0.8]:\n",
        "\n",
        "  y_pred_prob = df_pred.loc[df_pred[\"probability\"] > cut, ['label']]\n",
        "  y_test_prob = df_pred.loc[df_pred[\"probability\"] > cut, ['label_true']]\n",
        "  print(accuracy_score(y_test_prob, y_pred_prob))\n",
        "\n",
        "  cm = confusion_matrix(y_test_prob, y_pred_prob)\n",
        "\n",
        "  cm_df = pd.DataFrame(cm,\n",
        "                       index = ['away','draw','home'], \n",
        "                       columns = ['away','draw','home'])\n",
        "\n",
        "  plt.figure(figsize=(5,4))\n",
        "  sns.heatmap(cm_df, annot=True, linewidth=.5)\n",
        "  plt.title(f'Confusion Matrix with cut {cut}')\n",
        "  plt.ylabel('Actal Values')\n",
        "  plt.xlabel('Predicted Values')\n",
        "  plt.show()"
      ],
      "metadata": {
        "id": "z-7GOMmv65-B"
      },
      "execution_count": null,
      "outputs": []
    },
    {
      "cell_type": "markdown",
      "source": [
        "###**Logistic Regression**\n",
        "\n",
        "\n",
        "\n",
        "\n",
        "\n",
        "\n"
      ],
      "metadata": {
        "id": "wiKaXGIpPNKD"
      }
    },
    {
      "cell_type": "markdown",
      "source": [
        "With Ratios (Not Used)"
      ],
      "metadata": {
        "id": "x_KW_HmETIra"
      }
    },
    {
      "cell_type": "code",
      "source": [
        "x_train = df.loc[(df[\"stage\"] >= 4) & (df[\"stage\"] <= 32), ['Italy','B365H','B365D','B365A','ratio_overall_rating','ratio_buildUpPlaySpeed','ratio_buildUpPlayPassing','ratio_chanceCreationShooting',\n",
        "                                                            'ratio_defencePressure','ratio_defenceAggression','difference_points_last_games','difference_points_ranking']]\n",
        "y_train = df.loc[(df[\"stage\"] >= 4) & (df[\"stage\"] <= 32), ['result']]\n",
        "\n",
        "x_validation = df.loc[(df[\"stage\"] > 32) & (df[\"stage\"] <= 35) , ['Italy','B365H','B365D','B365A','ratio_overall_rating','ratio_buildUpPlaySpeed','ratio_buildUpPlayPassing','ratio_chanceCreationShooting','ratio_defencePressure',\n",
        "                                    'ratio_defenceAggression','difference_points_last_games','difference_points_ranking']]\n",
        "y_validation = df.loc[(df[\"stage\"] > 32) & (df[\"stage\"] <= 35), ['result']]\n",
        "\n",
        "x_test = df.loc[df[\"stage\"] > 35 , ['Italy','B365H','B365D','B365A','ratio_overall_rating','ratio_buildUpPlaySpeed','ratio_buildUpPlayPassing','ratio_chanceCreationShooting','ratio_defencePressure',\n",
        "                                    'ratio_defenceAggression','difference_points_last_games','difference_points_ranking']]\n",
        "y_test = df.loc[df[\"stage\"] > 35, ['result']]"
      ],
      "metadata": {
        "id": "BOL1iTq2PZey"
      },
      "execution_count": null,
      "outputs": []
    },
    {
      "cell_type": "code",
      "source": [
        "for multi_class in ('multinomial', 'ovr'):\n",
        "  clf = linear_model.LogisticRegression(solver='sag', max_iter=100, multi_class=multi_class)\n",
        "  clf.fit(x_train, y_train.values.ravel())\n",
        "  print(\"clf training score : %.3f\" % (clf.score(x_train, y_train.values.ravel())))\n",
        "  print(\"clf test score : %.3f\" % (clf.score(x_validation, y_validation.values.ravel())))"
      ],
      "metadata": {
        "id": "Gha8FajqIDv9"
      },
      "execution_count": null,
      "outputs": []
    },
    {
      "cell_type": "code",
      "source": [
        "x_train = df.loc[(df[\"stage\"] >= 4) & (df[\"stage\"] <= 35), ['Italy','B365H','B365D','B365A','ratio_overall_rating','ratio_buildUpPlaySpeed','ratio_buildUpPlayPassing','ratio_chanceCreationShooting',\n",
        "                                                            'ratio_defencePressure','ratio_defenceAggression','difference_points_last_games','difference_points_ranking']]\n",
        "y_train = df.loc[(df[\"stage\"] >= 4) & (df[\"stage\"] <= 35), ['result']]\n",
        "x_test = df.loc[df[\"stage\"] > 35 , ['Italy','B365H','B365D','B365A','ratio_overall_rating','ratio_buildUpPlaySpeed','ratio_buildUpPlayPassing','ratio_chanceCreationShooting','ratio_defencePressure',\n",
        "                                    'ratio_defenceAggression','difference_points_last_games','difference_points_ranking']]\n",
        "y_test = df.loc[df[\"stage\"] > 35, ['result']]"
      ],
      "metadata": {
        "id": "5jR2Z9qYPeDw"
      },
      "execution_count": null,
      "outputs": []
    },
    {
      "cell_type": "code",
      "source": [
        "clf = linear_model.LogisticRegression(solver='sag', max_iter=100, multi_class='ovr')\n",
        "clf.fit(x_train, y_train.values.ravel())\n",
        "print(\"clf training score : %.3f\" % (clf.score(x_train, y_train.values.ravel())))\n",
        "print(\"clf test score : %.3f\" % (clf.score(x_test, y_test.values.ravel())))"
      ],
      "metadata": {
        "id": "AlVVX0OgEDa2"
      },
      "execution_count": null,
      "outputs": []
    },
    {
      "cell_type": "code",
      "source": [
        "index = ['Italy','B365H','B365D','B365A','ratio_overall_rating','ratio_buildUpPlaySpeed','ratio_buildUpPlayPassing','ratio_chanceCreationShooting','ratio_defencePressure','ratio_defenceAggression','difference_points_last_games','difference_points_ranking']\n",
        "df_draw = pd.DataFrame({'Away': clf.coef_[0],\n",
        "                   'Draw': clf.coef_[1],\n",
        "                   'Home': clf.coef_[2]}, \n",
        "                  index=index)\n",
        "ax = df_draw.plot.barh(figsize=(6,6))"
      ],
      "metadata": {
        "id": "OyUuREeCdGb_"
      },
      "execution_count": null,
      "outputs": []
    },
    {
      "cell_type": "code",
      "source": [
        "y_pred = clf.predict(x_test)\n",
        "cm = confusion_matrix(y_test, y_pred)\n",
        "\n",
        "print(cm)\n",
        "print(\"clf test score : %.3f\" % (clf.score(x_test, y_test.values.ravel())))\n",
        "\n",
        "cm_df = pd.DataFrame(cm,\n",
        "                     index = ['away','draw','home'], \n",
        "                     columns = ['away','draw','home'])\n",
        "\n",
        "plt.figure(figsize=(5,4))\n",
        "sns.heatmap(cm_df, annot=True)\n",
        "plt.title('Confusion Matrix')\n",
        "plt.ylabel('Actal Values')\n",
        "plt.xlabel('Predicted Values')\n",
        "plt.show()"
      ],
      "metadata": {
        "id": "Y8QopBkQ-_-H"
      },
      "execution_count": null,
      "outputs": []
    },
    {
      "cell_type": "code",
      "source": [
        "y_pred_prob = clf.predict_proba(x_test)\n",
        "y_pred = clf.predict(x_test)\n",
        "y_pred_prob_max = np.amax(y_pred_prob, axis = 1)\n",
        "df_pred = pd.DataFrame(\n",
        "    {'probability': y_pred_prob_max,\n",
        "     'label': y_pred\n",
        "    })\n",
        "\n",
        "df_pred['label_true'] = y_test['result'].values\n",
        "\n",
        "df_pred['probability'].hist(by=df_pred['label'],\n",
        "                            bins=[0, 0.1, 0.2, 0.3, 0.4, 0.5, 0.6, 0.7, 0.8, 0.9, 1], \n",
        "                            edgecolor='black', \n",
        "                            figsize = (8,6)) "
      ],
      "metadata": {
        "id": "dLRQDXcbEoBn"
      },
      "execution_count": null,
      "outputs": []
    },
    {
      "cell_type": "code",
      "source": [
        "for cut in [0.7,0.8]:\n",
        "\n",
        "  y_pred_prob = df_pred.loc[df_pred[\"probability\"] > cut, ['label']]\n",
        "  y_test_prob = df_pred.loc[df_pred[\"probability\"] > cut, ['label_true']]\n",
        "  print(accuracy_score(y_test_prob, y_pred_prob))\n",
        "\n",
        "  cm = confusion_matrix(y_test_prob, y_pred_prob)\n",
        "\n",
        "  cm_df = pd.DataFrame(cm,\n",
        "                       index = ['away','draw','home'], \n",
        "                       columns = ['away','draw','home'])\n",
        "\n",
        "  plt.figure(figsize=(5,4))\n",
        "  sns.heatmap(cm_df, annot=True)\n",
        "  plt.title(f'Confusion Matrix with cut {cut}')\n",
        "  plt.ylabel('Actal Values')\n",
        "  plt.xlabel('Predicted Values')\n",
        "  plt.show()"
      ],
      "metadata": {
        "id": "GuJkRbHTEf3Q"
      },
      "execution_count": null,
      "outputs": []
    },
    {
      "cell_type": "markdown",
      "source": [
        "###**Testing with differences & correlation eliminations**"
      ],
      "metadata": {
        "id": "QDYLtY1TjMb0"
      }
    },
    {
      "cell_type": "code",
      "source": [
        "x_train = df.loc[(df[\"stage\"] >= 4) & (df[\"stage\"] <= 32), ['Italy','B365H','B365D','B365A','difference_overall_rating','difference_buildUpPlaySpeed','difference_buildUpPlayPassing','difference_chanceCreationShooting',\n",
        "                                                            'difference_defencePressure','difference_defenceAggression','difference_points_last_games','difference_points_ranking']]\n",
        "y_train = df.loc[(df[\"stage\"] >= 4) & (df[\"stage\"] <= 32), ['result']]\n",
        "\n",
        "x_validation = df.loc[(df[\"stage\"] > 32) & (df[\"stage\"] <= 35) , ['Italy','B365H','B365D','B365A','difference_overall_rating','difference_buildUpPlaySpeed','difference_buildUpPlayPassing','difference_chanceCreationShooting',\n",
        "                                                                  'difference_defencePressure','difference_defenceAggression','difference_points_last_games','difference_points_ranking']]\n",
        "y_validation = df.loc[(df[\"stage\"] > 32) & (df[\"stage\"] <= 35), ['result']]\n",
        "\n",
        "x_test = df.loc[df[\"stage\"] > 35 , ['Italy','B365H','B365D','B365A','difference_overall_rating','difference_buildUpPlaySpeed','difference_buildUpPlayPassing','difference_chanceCreationShooting',        \n",
        "                                    'difference_defencePressure','difference_defenceAggression','difference_points_last_games','difference_points_ranking']]\n",
        "y_test = df.loc[df[\"stage\"] > 35, ['result']]"
      ],
      "metadata": {
        "id": "8J_DhP9gjQnw"
      },
      "execution_count": null,
      "outputs": []
    },
    {
      "cell_type": "code",
      "source": [
        "res = []\n",
        "for estimators in [1,10,50,100]:\n",
        "  for depth in [2,4,6,8]:\n",
        "    rfc = ensemble.RandomForestClassifier(max_depth=4, n_estimators=estimators,)\n",
        "    rfc = rfc.fit(x_train, y_train.values.ravel())\n",
        "    print(f\"Estimators: \", {estimators}, \"Depth: \", {depth})\n",
        "#    print(\"rfc training score : %.3f\" % (rfc.score(x_train, y_train)))\n",
        "    print(\"rfc test score : %.3f\" % (rfc.score(x_validation, y_validation)))\n",
        "    res.append(rfc.score(x_validation, y_validation))"
      ],
      "metadata": {
        "id": "c_6mHFU9DaI6"
      },
      "execution_count": null,
      "outputs": []
    },
    {
      "cell_type": "code",
      "source": [
        "sorted(res)"
      ],
      "metadata": {
        "id": "1BsS2NoeDfkm"
      },
      "execution_count": null,
      "outputs": []
    },
    {
      "cell_type": "code",
      "source": [
        "x_train = df.loc[(df[\"stage\"] >= 4) & (df[\"stage\"] <= 35), ['Italy','B365H','B365D','B365A','difference_overall_rating','difference_buildUpPlaySpeed','difference_buildUpPlayPassing','difference_chanceCreationShooting',\n",
        "                                                            'difference_defencePressure','difference_defenceAggression','difference_points_last_games','difference_points_ranking']]\n",
        "y_train = df.loc[(df[\"stage\"] >= 4) & (df[\"stage\"] <= 35), ['result']]\n",
        "x_test = df.loc[df[\"stage\"] > 35, ['Italy','B365H','B365D','B365A','difference_overall_rating','difference_buildUpPlaySpeed','difference_buildUpPlayPassing','difference_chanceCreationShooting',\n",
        "                                    'difference_defencePressure','difference_defenceAggression','difference_points_last_games','difference_points_ranking']]\n",
        "y_test = df.loc[df[\"stage\"] > 35, ['result']]"
      ],
      "metadata": {
        "id": "D9D5-pKnUQOa"
      },
      "execution_count": null,
      "outputs": []
    },
    {
      "cell_type": "code",
      "source": [
        "rfc = ensemble.RandomForestClassifier(max_depth=6, n_estimators=100,)\n",
        "rfc = rfc.fit(x_train, y_train.values.ravel())\n",
        "print(f\"Estimators: \", {estimators})\n",
        "print(\"rfc training score : %.3f\" % (rfc.score(x_train, y_train)))\n",
        "print(\"rfc test score : %.3f\" % (rfc.score(x_test, y_test)))"
      ],
      "metadata": {
        "id": "e_DaDbqADfxm"
      },
      "execution_count": null,
      "outputs": []
    },
    {
      "cell_type": "code",
      "source": [
        "def plot_feature_importance(importance,names,model_type):\n",
        "\n",
        "#Create arrays from feature importance and feature names\n",
        "  feature_importance = np.array(importance)\n",
        "  feature_names = np.array(names)\n",
        "\n",
        "#Create a DataFrame using a Dictionary\n",
        "  data={'feature_names':feature_names,'feature_importance':feature_importance}\n",
        "  fi_df = pd.DataFrame(data)\n",
        "\n",
        "#Sort the DataFrame in order decreasing feature importance\n",
        "  fi_df.sort_values(by=['feature_importance'], ascending=False,inplace=True)\n",
        "\n",
        "#Define size of bar plot\n",
        "  plt.figure(figsize=(10,8))\n",
        "#Plot Searborn bar chart\n",
        "  sns.barplot(x=fi_df['feature_importance'], y=fi_df['feature_names'])\n",
        "#Add chart labels\n",
        "  plt.title(model_type + ' Feature Importance')\n",
        "  plt.xlabel('Feature Importance')\n",
        "  plt.ylabel('Feature Names')\n",
        "\n",
        "plot_feature_importance(rfc.feature_importances_,x_train.columns,'Random Forest')"
      ],
      "metadata": {
        "id": "Wt2ioJ6PDf2L"
      },
      "execution_count": null,
      "outputs": []
    },
    {
      "cell_type": "code",
      "source": [
        "y_pred = rfc.predict(x_test)\n",
        "cm = confusion_matrix(y_test, y_pred)\n",
        "print(cm)\n",
        "print(\"rfc test score : %.3f\" % (rfc.score(x_test, y_test)))\n",
        "\n",
        "cm_df = pd.DataFrame(cm,\n",
        "                     index = ['away','draw','home'], \n",
        "                     columns = ['away','draw','home'])\n",
        "\n",
        "plt.figure(figsize=(5,4))\n",
        "sns.heatmap(cm_df, annot=True, linewidth=.5)\n",
        "plt.title('Confusion Matrix')\n",
        "plt.ylabel('Actal Values')\n",
        "plt.xlabel('Predicted Values')\n",
        "plt.show()"
      ],
      "metadata": {
        "id": "uyzIlJifDf6J"
      },
      "execution_count": null,
      "outputs": []
    },
    {
      "cell_type": "code",
      "source": [
        "y_pred_prob = rfc.predict_proba(x_test)\n",
        "y_pred = rfc.predict(x_test)\n",
        "y_pred_prob_max = np.amax(y_pred_prob, axis = 1)\n",
        "df_pred = pd.DataFrame(\n",
        "    {'probability': y_pred_prob_max,\n",
        "     'label': y_pred\n",
        "    })\n",
        "\n",
        "df_pred['label_true'] = y_test['result'].values\n",
        "\n",
        "df_pred['probability'].hist(by=df_pred['label'],\n",
        "                            bins=[0, 0.1, 0.2, 0.3, 0.4, 0.5, 0.6, 0.7, 0.8, 0.9, 1], \n",
        "                            edgecolor='black', \n",
        "                            figsize = (8,6)) "
      ],
      "metadata": {
        "id": "kD5_4y5VEAEE"
      },
      "execution_count": null,
      "outputs": []
    },
    {
      "cell_type": "code",
      "source": [
        "for cut in [0.7,0.8]:\n",
        "\n",
        "  y_pred_prob = df_pred.loc[df_pred[\"probability\"] > cut, ['label']]\n",
        "  y_test_prob = df_pred.loc[df_pred[\"probability\"] > cut, ['label_true']]\n",
        "  print(accuracy_score(y_test_prob, y_pred_prob))\n",
        "\n",
        "  cm = confusion_matrix(y_test_prob, y_pred_prob)\n",
        "\n",
        "  cm_df = pd.DataFrame(cm,\n",
        "                       index = ['away','draw','home'], \n",
        "                       columns = ['away','draw','home'])\n",
        "\n",
        "  plt.figure(figsize=(5,4))\n",
        "  sns.heatmap(cm_df, annot=True)\n",
        "  plt.title(f'Confusion Matrix with cut {cut}')\n",
        "  plt.ylabel('Actal Values')\n",
        "  plt.xlabel('Predicted Values')\n",
        "  plt.show()"
      ],
      "metadata": {
        "id": "0nU98lkzD6Cw"
      },
      "execution_count": null,
      "outputs": []
    },
    {
      "cell_type": "markdown",
      "source": [
        "###**Logistic Regression with differences and correlated variables**"
      ],
      "metadata": {
        "id": "2pC3bBw8FXif"
      }
    },
    {
      "cell_type": "code",
      "source": [
        "x_train = df.loc[(df[\"stage\"] >= 4) & (df[\"stage\"] <= 32), ['Italy','B365H','B365D','B365A','difference_overall_rating','difference_buildUpPlaySpeed','difference_buildUpPlayPassing','difference_chanceCreationShooting',\n",
        "                                                            'difference_defencePressure','difference_defenceAggression','difference_points_last_games','difference_points_ranking']]\n",
        "y_train = df.loc[(df[\"stage\"] >= 4) & (df[\"stage\"] <= 32), ['result']]\n",
        "\n",
        "x_validation = df.loc[(df[\"stage\"] > 32) & (df[\"stage\"] <= 35) , ['Italy','B365H','B365D','B365A','difference_overall_rating','difference_buildUpPlaySpeed','difference_buildUpPlayPassing','difference_chanceCreationShooting',\n",
        "                                                                  'difference_defencePressure','difference_defenceAggression','difference_points_last_games','difference_points_ranking']]\n",
        "y_validation = df.loc[(df[\"stage\"] > 32) & (df[\"stage\"] <= 35), ['result']]\n",
        "\n",
        "x_test = df.loc[df[\"stage\"] > 35 , ['Italy','B365H','B365D','B365A','difference_overall_rating','difference_buildUpPlaySpeed','difference_buildUpPlayPassing','difference_chanceCreationShooting',        \n",
        "                                    'difference_defencePressure','difference_defenceAggression','difference_points_last_games','difference_points_ranking']]\n",
        "y_test = df.loc[df[\"stage\"] > 35, ['result']]"
      ],
      "metadata": {
        "id": "cNwHsf9eVWMQ"
      },
      "execution_count": null,
      "outputs": []
    },
    {
      "cell_type": "code",
      "source": [
        "for multi_class in ('multinomial', 'ovr'):\n",
        "  clf = linear_model.LogisticRegression(solver='sag', max_iter=100, multi_class=multi_class)\n",
        "  clf.fit(x_train, y_train.values.ravel())\n",
        "  print(\"clf training score : %.3f\" % (clf.score(x_validation, y_validation.values.ravel())))\n",
        "  print(\"clf test score : %.3f\" % (clf.score(x_validation, y_validation.values.ravel())))"
      ],
      "metadata": {
        "id": "89C1U01WjEeQ"
      },
      "execution_count": null,
      "outputs": []
    },
    {
      "cell_type": "code",
      "source": [
        "x_train = df.loc[(df[\"stage\"] >= 4) & (df[\"stage\"] <= 35), ['Italy','B365H','B365D','B365A','difference_overall_rating','difference_buildUpPlaySpeed','difference_buildUpPlayPassing','difference_chanceCreationShooting',\n",
        "                                                            'difference_defencePressure','difference_defenceAggression','difference_points_last_games','difference_points_ranking']]\n",
        "y_train = df.loc[(df[\"stage\"] >= 4) & (df[\"stage\"] <= 35), ['result']]\n",
        "x_test = df.loc[df[\"stage\"] > 35, ['Italy','B365H','B365D','B365A','difference_overall_rating','difference_buildUpPlaySpeed','difference_buildUpPlayPassing','difference_chanceCreationShooting',\n",
        "                                    'difference_defencePressure','difference_defenceAggression','difference_points_last_games','difference_points_ranking']]\n",
        "y_test = df.loc[df[\"stage\"] > 35, ['result']]"
      ],
      "metadata": {
        "id": "ht0ac6YsVoPI"
      },
      "execution_count": null,
      "outputs": []
    },
    {
      "cell_type": "code",
      "source": [
        "clf = linear_model.LogisticRegression(solver='sag', max_iter=100, multi_class='ovr')\n",
        "clf.fit(x_train, y_train.values.ravel())\n",
        "print(\"clf training score : %.3f\" % (clf.score(x_validation, y_validation.values.ravel())))\n",
        "print(\"clf test score : %.3f\" % (clf.score(x_validation, y_validation.values.ravel())))"
      ],
      "metadata": {
        "id": "HOqqqExkVrmp"
      },
      "execution_count": null,
      "outputs": []
    },
    {
      "cell_type": "code",
      "source": [
        "index =  ['Italy','B365H','B365D','B365A','difference_overall_rating','difference_buildUpPlaySpeed','difference_buildUpPlayPassing','difference_chanceCreationShooting',\n",
        "          'difference_defencePressure','difference_defenceAggression','difference_points_last_games','difference_points_ranking']\n",
        "df_draw = pd.DataFrame({'Away': clf.coef_[0],\n",
        "                        'Draw': clf.coef_[1],\n",
        "                        'Home': clf.coef_[2]}, \n",
        "                         index=index)\n",
        "ax = df_draw.plot.barh(figsize=(6,6))"
      ],
      "metadata": {
        "id": "giApe9Y6kHS4"
      },
      "execution_count": null,
      "outputs": []
    },
    {
      "cell_type": "code",
      "source": [
        "y_pred = clf.predict(x_test)\n",
        "cm = confusion_matrix(y_test, y_pred)\n",
        "\n",
        "print(cm)\n",
        "print(\"clf test score : %.3f\" % (clf.score(x_test, y_test.values.ravel())))\n",
        "\n",
        "cm_df = pd.DataFrame(cm,\n",
        "                     index = ['away','draw','home'], \n",
        "                     columns = ['away','draw','home'])\n",
        "\n",
        "plt.figure(figsize=(5,4))\n",
        "sns.heatmap(cm_df, annot=True)\n",
        "plt.title('Confusion Matrix')\n",
        "plt.ylabel('Actal Values')\n",
        "plt.xlabel('Predicted Values')\n",
        "plt.show()"
      ],
      "metadata": {
        "id": "5WNkfiR4Evsc"
      },
      "execution_count": null,
      "outputs": []
    },
    {
      "cell_type": "code",
      "source": [
        "y_pred_prob = clf.predict_proba(x_test)\n",
        "y_pred = clf.predict(x_test)\n",
        "y_pred_prob_max = np.amax(y_pred_prob, axis = 1)\n",
        "df_pred = pd.DataFrame(\n",
        "    {'probability': y_pred_prob_max,\n",
        "     'label': y_pred\n",
        "    })\n",
        "\n",
        "df_pred['label_true'] = y_test['result'].values\n",
        "\n",
        "df_pred['probability'].hist(by=df_pred['label'],\n",
        "                            bins=[0, 0.1, 0.2, 0.3, 0.4, 0.5, 0.6, 0.7, 0.8, 0.9, 1], \n",
        "                            edgecolor='black', \n",
        "                            figsize = (8,6)) "
      ],
      "metadata": {
        "id": "8xhOnwRfFUBD"
      },
      "execution_count": null,
      "outputs": []
    },
    {
      "cell_type": "code",
      "source": [
        "for cut in [0.7,0.8]:\n",
        "\n",
        "  y_pred_prob = df_pred.loc[df_pred[\"probability\"] > cut, ['label']]\n",
        "  y_test_prob = df_pred.loc[df_pred[\"probability\"] > cut, ['label_true']]\n",
        "  print(accuracy_score(y_test_prob, y_pred_prob))\n",
        "\n",
        "  cm = confusion_matrix(y_test_prob, y_pred_prob)\n",
        "\n",
        "  cm_df = pd.DataFrame(cm,\n",
        "                       index = ['away','draw','home'], \n",
        "                       columns = ['away','draw','home'])\n",
        "\n",
        "  plt.figure(figsize=(5,4))\n",
        "  sns.heatmap(cm_df, annot=True)\n",
        "  plt.title(f'Confusion Matrix with cut {cut}')\n",
        "  plt.ylabel('Actal Values')\n",
        "  plt.xlabel('Predicted Values')\n",
        "  plt.show()"
      ],
      "metadata": {
        "id": "-MD6Q9L_E5nA"
      },
      "execution_count": null,
      "outputs": []
    },
    {
      "cell_type": "markdown",
      "source": [
        "###**Logistic Regression without correlated variables**"
      ],
      "metadata": {
        "id": "loMHZmgjFExP"
      }
    },
    {
      "cell_type": "code",
      "source": [
        "x_train = df.loc[(df[\"stage\"] >= 4) & (df[\"stage\"] <= 32), ['Italy','B365H','B365D','difference_buildUpPlaySpeed','difference_buildUpPlayPassing','difference_chanceCreationShooting',\n",
        "                                                            'difference_defencePressure','difference_defenceAggression','difference_points_last_games','difference_points_ranking']]\n",
        "y_train = df.loc[(df[\"stage\"] >= 4) & (df[\"stage\"] <= 32), ['result']]\n",
        "\n",
        "x_validation = df.loc[(df[\"stage\"] > 32) & (df[\"stage\"] <= 35) , ['Italy','B365H','B365D','difference_buildUpPlaySpeed','difference_buildUpPlayPassing','difference_chanceCreationShooting',\n",
        "                                                                  'difference_defencePressure','difference_defenceAggression','difference_points_last_games','difference_points_ranking']]\n",
        "y_validation = df.loc[(df[\"stage\"] > 32) & (df[\"stage\"] <= 35), ['result']]\n",
        "\n",
        "x_test = df.loc[df[\"stage\"] > 35 , ['Italy','B365H','B365D','difference_buildUpPlaySpeed','difference_buildUpPlayPassing','difference_chanceCreationShooting',\n",
        "                                    'difference_defencePressure','difference_defenceAggression','difference_points_last_games','difference_points_ranking']]\n",
        "y_test = df.loc[df[\"stage\"] > 35, ['result']]"
      ],
      "metadata": {
        "id": "pFvHHpeEWA9P"
      },
      "execution_count": null,
      "outputs": []
    },
    {
      "cell_type": "code",
      "source": [
        "for multi_class in ('multinomial', 'ovr'):\n",
        "  clf = linear_model.LogisticRegression(solver='sag', max_iter=100, multi_class=multi_class)\n",
        "  clf.fit(x_train, y_train.values.ravel())\n",
        "  print(\"clf training score : %.3f\" % (clf.score(x_validation, y_validation.values.ravel())))\n",
        "  print(\"clf test score : %.3f\" % (clf.score(x_validation, y_validation.values.ravel())))"
      ],
      "metadata": {
        "id": "xudBxqgqkAX5"
      },
      "execution_count": null,
      "outputs": []
    },
    {
      "cell_type": "code",
      "source": [
        "x_train = df.loc[(df[\"stage\"] >= 4) & (df[\"stage\"] <= 35), ['Italy','B365H','B365D','difference_buildUpPlaySpeed','difference_buildUpPlayPassing','difference_chanceCreationShooting',\n",
        "                                                            'difference_defencePressure','difference_defenceAggression','difference_points_last_games','difference_points_ranking']]\n",
        "y_train = df.loc[(df[\"stage\"] >= 4) & (df[\"stage\"] <= 35), ['result']]\n",
        "x_test = df.loc[df[\"stage\"] > 35 , ['Italy','B365H','B365D','difference_buildUpPlaySpeed','difference_buildUpPlayPassing','difference_chanceCreationShooting',\n",
        "                                    'difference_defencePressure','difference_defenceAggression','difference_points_last_games','difference_points_ranking']]\n",
        "y_test = df.loc[df[\"stage\"] > 35, ['result']]"
      ],
      "metadata": {
        "id": "i1pNVeCzjvJv"
      },
      "execution_count": null,
      "outputs": []
    },
    {
      "cell_type": "code",
      "source": [
        "clf = linear_model.LogisticRegression(solver='sag', max_iter=100, multi_class='ovr')\n",
        "clf.fit(x_train, y_train.values.ravel())\n",
        "print(\"clf training score : %.3f\" % (clf.score(x_test, y_test.values.ravel())))\n",
        "print(\"clf test score : %.3f\" % (clf.score(x_test, y_test.values.ravel())))"
      ],
      "metadata": {
        "id": "vPx6GjnmWe40"
      },
      "execution_count": null,
      "outputs": []
    },
    {
      "cell_type": "code",
      "source": [
        "index =  ['Italy','B365H','B365D','difference_buildUpPlaySpeed','difference_buildUpPlayPassing','difference_chanceCreationShooting',\n",
        "          'difference_defencePressure','difference_defenceAggression','difference_points_last_games','difference_points_ranking']\n",
        "df_draw = pd.DataFrame({'Away': clf.coef_[0],\n",
        "                        'Draw': clf.coef_[1],\n",
        "                        'Home': clf.coef_[2]}, \n",
        "                         index=index)\n",
        "ax = df_draw.plot.barh(figsize=(6,6))"
      ],
      "metadata": {
        "id": "yvBtPE0rk8gF"
      },
      "execution_count": null,
      "outputs": []
    },
    {
      "cell_type": "code",
      "source": [
        "y_pred = clf.predict(x_test)\n",
        "cm = confusion_matrix(y_test, y_pred)\n",
        "y_test\n",
        "print(cm)\n",
        "print(\"clf test score : %.3f\" % (clf.score(x_test, y_test.values.ravel())))\n",
        "\n",
        "cm_df = pd.DataFrame(cm,\n",
        "                     index = ['away','draw','home'], \n",
        "                     columns = ['away','draw','home'])\n",
        "\n",
        "plt.figure(figsize=(5,4))\n",
        "sns.heatmap(cm_df, annot=True)\n",
        "plt.title('Confusion Matrix')\n",
        "plt.ylabel('Actal Values')\n",
        "plt.xlabel('Predicted Values')\n",
        "plt.show()"
      ],
      "metadata": {
        "id": "zkfofTxkFM83"
      },
      "execution_count": null,
      "outputs": []
    },
    {
      "cell_type": "code",
      "source": [
        "y_pred_prob = clf.predict_proba(x_test)\n",
        "y_pred = clf.predict(x_test)\n",
        "y_pred_prob_max = np.amax(y_pred_prob, axis = 1)\n",
        "df_pred = pd.DataFrame(\n",
        "    {'probability': y_pred_prob_max,\n",
        "     'label': y_pred\n",
        "    })\n",
        "\n",
        "df_pred['label_true'] = y_test['result'].values\n",
        "\n",
        "df_pred['probability'].hist(by=df_pred['label'],\n",
        "                            bins=[0, 0.1, 0.2, 0.3, 0.4, 0.5, 0.6, 0.7, 0.8, 0.9, 1], \n",
        "                            edgecolor='black', \n",
        "                            figsize = (8,6)) "
      ],
      "metadata": {
        "id": "kI1zJ9IyFPNs"
      },
      "execution_count": null,
      "outputs": []
    },
    {
      "cell_type": "code",
      "source": [
        "for cut in [0.7,0.8]:\n",
        "\n",
        "  y_pred_prob = df_pred.loc[df_pred[\"probability\"] > cut, ['label']]\n",
        "  y_test_prob = df_pred.loc[df_pred[\"probability\"] > cut, ['label_true']]\n",
        "  print(accuracy_score(y_test_prob, y_pred_prob))\n",
        "\n",
        "  cm = confusion_matrix(y_test_prob, y_pred_prob)\n",
        "\n",
        "  if cm.shape == (2,2):\n",
        "    cm_df = pd.DataFrame(cm,\n",
        "                         index = ['away','home'], \n",
        "                         columns = ['away','home'])\n",
        "\n",
        "    plt.figure(figsize=(5,4))\n",
        "    sns.heatmap(cm_df, annot=True)\n",
        "    plt.title(f'Confusion Matrix with cut {cut}')\n",
        "    plt.ylabel('Actal Values')\n",
        "    plt.xlabel('Predicted Values')\n",
        "    plt.show()\n",
        "  \n",
        "  else:\n",
        "    cm_df = pd.DataFrame(cm,\n",
        "                         index = ['away','draw','home'], \n",
        "                         columns = ['away','draw','home'])\n",
        "\n",
        "    plt.figure(figsize=(5,4))\n",
        "    sns.heatmap(cm_df, annot=True)\n",
        "    plt.title(f'Confusion Matrix with cut {cut}')\n",
        "    plt.ylabel('Actal Values')\n",
        "    plt.xlabel('Predicted Values')\n",
        "    plt.show()"
      ],
      "metadata": {
        "id": "qTPi1ZlaGnzB"
      },
      "execution_count": null,
      "outputs": []
    },
    {
      "cell_type": "markdown",
      "source": [
        "###**Explanations and Comments**"
      ],
      "metadata": {
        "id": "C0oahwDVTwxQ"
      }
    },
    {
      "cell_type": "markdown",
      "source": [
        "#### **Explanation columns**\n",
        "\n",
        "*   B365H to BSA are the beeting odds for\n",
        "    *   H Odds for Home Win\n",
        "    *   D Odds for Draw\n",
        "    *   A Odds for Away Win\n",
        "*   Goal, shoton, shotoff etc. are not available for Switzerland but e.g. Italy has strange values in there (text)\n",
        "    * Need?\n",
        "    * Maybe problems with data gathering (looks like scraper was not usefule)\n",
        "    * Those values are usually not available prior to game\n",
        "    * Could only use as trailing values over past games\n",
        "* home_player_Y\n",
        "  * Values from 1 to 11, should be the y-axis values to determine the position (?)\n",
        "* home_player_X\n",
        "  * Values from 1 to 8, should be the x-axis values to dtermine the postion (?)\n",
        "  * Use X_Y to determine staring formation -> are there names? Defensive, offensive etc.?\n",
        "\n",
        "\n",
        "#### **Comments**\n",
        "\n",
        "*   Odds for Switzland are barley available\n",
        "    * Needed? Would have to take an other League then (e.g. Italy)\n",
        "*   Some Information won't be available prior to a game (e.g. possesion or goals)\n",
        "    * Maybe use historic values from e.g. last 5 games or last encounter (or similar teams)\n",
        "\n",
        "*   \n",
        "\n",
        "#### **Used Columns and reason**\n",
        "\n",
        "* home_team_goal\n",
        "* away_team_goal\n",
        "  * Determine the outcome: Home_Win, Away_Win, Draw\n",
        "\n",
        "Problem: seems to have some lack of data, especially for things like possession etc. ARE THOSE IMPORTANT for trialing values?\n",
        "\n",
        "#### **Enhancement**\n",
        "\n",
        "Could enhance the dataset with metrics for \n",
        "* the players \n",
        "* the team (if not correlated to playsers) -> but then in relation together\n",
        "* trailing values about winning, losing and draws\n",
        "* trailing values about direct competition (might be to less data per season)\n",
        "* Temperature, weather condition\n",
        "\n",
        "Better do a loop in Python to compute, SQL might be to tedious\n",
        "\n",
        "**Big question: how does the final set looks like? Prediction per Team?**\n",
        "\n",
        "E.g. Team, Home (Yes / No), Opponent, Team Score, Opponent Score\n",
        "or like this dataset?\n",
        "-> If taken apart, there are always two predictions which schould yield to the same conclusion. E.g. YB - Basel:\n",
        "- Once Team is YB with Home Yes\n",
        "- Once Team is Basel with Home No etc.\n",
        "\n",
        "Does this make sense?\n",
        "What are the differences?"
      ],
      "metadata": {
        "id": "C6urxN9i570t"
      }
    },
    {
      "cell_type": "markdown",
      "source": [
        "####**Idea model**\n",
        "\n",
        "Better go with the first Model, 1 Record = 1 Match instead of 1 Record = 1 Team from the match (would double the Records).\n",
        "\n",
        "Would be interesting, if there are two Record per Match, if they predict the same, could be consent, if not, no consent. However, all is just the opposite of the other. So better stick with the first one.\n",
        "\n",
        "Basic idea is not to predict at the beginning of the season, but rather the second half (more data is available about winning and losing). But then there is not much training data, would need more seasons (why not)\n",
        "-> use 3 seasons\n",
        "\n"
      ],
      "metadata": {
        "id": "3Tc0YMS9Ai03"
      }
    },
    {
      "cell_type": "markdown",
      "source": [
        "####**Team and Player Attributes**\n",
        "\n",
        "Idea is to make Ratios out of those numbers, instead of using plain numbers.\n",
        "\n",
        "Have to check, how those numbers are. Might be changing overtime (would be good, but don't think so since are from FIFA Game and therefore fixed). \n",
        "\n",
        "So, for each record there are two teams (Home and Away).\n",
        "\n",
        "Join by ID and Date. Best taking the season as reference.\n",
        "\n",
        "Problem, that Teams change from one to other season?\n",
        "-> Only, if the Team Name is used..."
      ],
      "metadata": {
        "id": "PQSCMKFsEHzq"
      }
    }
  ]
}